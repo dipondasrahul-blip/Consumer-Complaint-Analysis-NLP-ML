{
 "cells": [
  {
   "cell_type": "markdown",
   "id": "15fbc9d1-1bec-4b65-b71d-8d20aad1c707",
   "metadata": {},
   "source": [
    "# Import Libraries"
   ]
  },
  {
   "cell_type": "code",
   "execution_count": 1,
   "id": "079ac980-91a2-4d20-bb10-9d65e32fc9b2",
   "metadata": {},
   "outputs": [],
   "source": [
    "import pandas as pd\n",
    "from datetime import datetime\n",
    "import matplotlib.pyplot as plt\n",
    "import seaborn as sns"
   ]
  },
  {
   "cell_type": "markdown",
   "id": "d54ca4bd-56de-467d-89db-645efb8bed5b",
   "metadata": {},
   "source": [
    "# Import Dataset"
   ]
  },
  {
   "cell_type": "code",
   "execution_count": 7,
   "id": "602b9c2a-b6b6-46c4-96d4-c0c7e2dae445",
   "metadata": {},
   "outputs": [],
   "source": [
    "# Make sure 'complaints.csv' is in the same folder as this notebook\n",
    "df = pd.read_csv(\"complaints.csv\", low_memory=False)"
   ]
  },
  {
   "cell_type": "markdown",
   "id": "713fc0fb-f3f2-4910-9b3a-4135ab4109e2",
   "metadata": {},
   "source": [
    "# Clean and Prepare Data"
   ]
  },
  {
   "cell_type": "markdown",
   "id": "a2594061-777d-42ec-8412-003ae1d1fab2",
   "metadata": {},
   "source": [
    "###  Adjust the datatypes and removes unnecessary spaces of the columns"
   ]
  },
  {
   "cell_type": "code",
   "execution_count": 66,
   "id": "aa940eed-ae94-4e4e-ac59-13dd4e935b87",
   "metadata": {},
   "outputs": [],
   "source": [
    "df = df.dropna(subset=['Consumer complaint narrative'])\n",
    "df.shape\n",
    "df.to_csv(\"complain_dataset.csv\")"
   ]
  },
  {
   "cell_type": "code",
   "execution_count": 9,
   "id": "f8dc585d-f1f8-4397-8c84-adc759acdaed",
   "metadata": {},
   "outputs": [],
   "source": [
    "\n",
    "df.columns = df.columns.str.strip()  # remove spaces from column names\n",
    "df['Complaint ID'] = df['Complaint ID'].astype(int)\n",
    "df[\"Date received\"] = pd.to_datetime(df[\"Date received\"], errors=\"coerce\")"
   ]
  },
  {
   "cell_type": "code",
   "execution_count": 10,
   "id": "43b7edf4-2445-45a8-88e4-764968c596da",
   "metadata": {},
   "outputs": [],
   "source": [
    "df.columns = df.columns.str.strip()\n",
    "df[\"Date received\"] = pd.to_datetime(df[\"Date received\"], errors=\"coerce\")\n",
    "df[\"Date sent to company\"] = pd.to_datetime(df[\"Date sent to company\"], errors=\"coerce\")\n"
   ]
  },
  {
   "cell_type": "markdown",
   "id": "56afc54e-63fb-4a5e-adc3-befc4c63136f",
   "metadata": {},
   "source": [
    "# Keep 20000 rows for ease of analysis "
   ]
  },
  {
   "cell_type": "code",
   "execution_count": 11,
   "id": "0736ebfa-62e5-40bb-b90e-d18344114577",
   "metadata": {
    "scrolled": true
   },
   "outputs": [
    {
     "data": {
      "text/html": [
       "<div>\n",
       "<style scoped>\n",
       "    .dataframe tbody tr th:only-of-type {\n",
       "        vertical-align: middle;\n",
       "    }\n",
       "\n",
       "    .dataframe tbody tr th {\n",
       "        vertical-align: top;\n",
       "    }\n",
       "\n",
       "    .dataframe thead th {\n",
       "        text-align: right;\n",
       "    }\n",
       "</style>\n",
       "<table border=\"1\" class=\"dataframe\">\n",
       "  <thead>\n",
       "    <tr style=\"text-align: right;\">\n",
       "      <th></th>\n",
       "      <th>Date received</th>\n",
       "      <th>Product</th>\n",
       "      <th>Sub-product</th>\n",
       "      <th>Issue</th>\n",
       "      <th>Sub-issue</th>\n",
       "      <th>Consumer complaint narrative</th>\n",
       "      <th>Company public response</th>\n",
       "      <th>Company</th>\n",
       "      <th>State</th>\n",
       "      <th>ZIP code</th>\n",
       "      <th>Tags</th>\n",
       "      <th>Consumer consent provided?</th>\n",
       "      <th>Submitted via</th>\n",
       "      <th>Date sent to company</th>\n",
       "      <th>Company response to consumer</th>\n",
       "      <th>Timely response?</th>\n",
       "      <th>Consumer disputed?</th>\n",
       "      <th>Complaint ID</th>\n",
       "    </tr>\n",
       "  </thead>\n",
       "  <tbody>\n",
       "    <tr>\n",
       "      <th>4</th>\n",
       "      <td>2020-05-08</td>\n",
       "      <td>Credit reporting, credit repair services, or o...</td>\n",
       "      <td>Credit reporting</td>\n",
       "      <td>Incorrect information on your report</td>\n",
       "      <td>Information belongs to someone else</td>\n",
       "      <td>These are not my accounts.</td>\n",
       "      <td>Company has responded to the consumer and the ...</td>\n",
       "      <td>Experian Information Solutions Inc.</td>\n",
       "      <td>NV</td>\n",
       "      <td>89030</td>\n",
       "      <td>NaN</td>\n",
       "      <td>Consent provided</td>\n",
       "      <td>Web</td>\n",
       "      <td>2020-05-08</td>\n",
       "      <td>Closed with explanation</td>\n",
       "      <td>Yes</td>\n",
       "      <td>NaN</td>\n",
       "      <td>3642453</td>\n",
       "    </tr>\n",
       "    <tr>\n",
       "      <th>11</th>\n",
       "      <td>2024-01-05</td>\n",
       "      <td>Credit reporting or other personal consumer re...</td>\n",
       "      <td>Credit reporting</td>\n",
       "      <td>Incorrect information on your report</td>\n",
       "      <td>Information belongs to someone else</td>\n",
       "      <td>Kindly address this issue on my credit report....</td>\n",
       "      <td>Company has responded to the consumer and the ...</td>\n",
       "      <td>Experian Information Solutions Inc.</td>\n",
       "      <td>IL</td>\n",
       "      <td>60502</td>\n",
       "      <td>NaN</td>\n",
       "      <td>Consent provided</td>\n",
       "      <td>Web</td>\n",
       "      <td>2024-01-05</td>\n",
       "      <td>Closed with non-monetary relief</td>\n",
       "      <td>Yes</td>\n",
       "      <td>NaN</td>\n",
       "      <td>8113747</td>\n",
       "    </tr>\n",
       "    <tr>\n",
       "      <th>15</th>\n",
       "      <td>2025-02-14</td>\n",
       "      <td>Credit reporting or other personal consumer re...</td>\n",
       "      <td>Credit reporting</td>\n",
       "      <td>Improper use of your report</td>\n",
       "      <td>Reporting company used your report improperly</td>\n",
       "      <td>There are XXXX collections being reported to t...</td>\n",
       "      <td>Company believes it acted appropriately as aut...</td>\n",
       "      <td>Lockhart, Morris &amp; Montgomery Inc.</td>\n",
       "      <td>FL</td>\n",
       "      <td>33801</td>\n",
       "      <td>NaN</td>\n",
       "      <td>Consent provided</td>\n",
       "      <td>Web</td>\n",
       "      <td>2025-02-21</td>\n",
       "      <td>Closed with explanation</td>\n",
       "      <td>Yes</td>\n",
       "      <td>NaN</td>\n",
       "      <td>12085091</td>\n",
       "    </tr>\n",
       "    <tr>\n",
       "      <th>44</th>\n",
       "      <td>2025-07-31</td>\n",
       "      <td>Credit reporting or other personal consumer re...</td>\n",
       "      <td>Credit reporting</td>\n",
       "      <td>Incorrect information on your report</td>\n",
       "      <td>Information belongs to someone else</td>\n",
       "      <td>Good day, filing this complaint to follow up m...</td>\n",
       "      <td>NaN</td>\n",
       "      <td>EQUIFAX, INC.</td>\n",
       "      <td>WV</td>\n",
       "      <td>254XX</td>\n",
       "      <td>NaN</td>\n",
       "      <td>Consent provided</td>\n",
       "      <td>Web</td>\n",
       "      <td>2025-07-31</td>\n",
       "      <td>Closed with explanation</td>\n",
       "      <td>Yes</td>\n",
       "      <td>NaN</td>\n",
       "      <td>15008491</td>\n",
       "    </tr>\n",
       "    <tr>\n",
       "      <th>59</th>\n",
       "      <td>2025-07-21</td>\n",
       "      <td>Credit reporting or other personal consumer re...</td>\n",
       "      <td>Credit reporting</td>\n",
       "      <td>Incorrect information on your report</td>\n",
       "      <td>Information belongs to someone else</td>\n",
       "      <td>I am writing to have the following information...</td>\n",
       "      <td>NaN</td>\n",
       "      <td>EQUIFAX, INC.</td>\n",
       "      <td>MD</td>\n",
       "      <td>21244</td>\n",
       "      <td>NaN</td>\n",
       "      <td>Consent provided</td>\n",
       "      <td>Web</td>\n",
       "      <td>2025-07-21</td>\n",
       "      <td>Closed with non-monetary relief</td>\n",
       "      <td>Yes</td>\n",
       "      <td>NaN</td>\n",
       "      <td>14774438</td>\n",
       "    </tr>\n",
       "    <tr>\n",
       "      <th>...</th>\n",
       "      <td>...</td>\n",
       "      <td>...</td>\n",
       "      <td>...</td>\n",
       "      <td>...</td>\n",
       "      <td>...</td>\n",
       "      <td>...</td>\n",
       "      <td>...</td>\n",
       "      <td>...</td>\n",
       "      <td>...</td>\n",
       "      <td>...</td>\n",
       "      <td>...</td>\n",
       "      <td>...</td>\n",
       "      <td>...</td>\n",
       "      <td>...</td>\n",
       "      <td>...</td>\n",
       "      <td>...</td>\n",
       "      <td>...</td>\n",
       "      <td>...</td>\n",
       "    </tr>\n",
       "    <tr>\n",
       "      <th>138197</th>\n",
       "      <td>2022-03-30</td>\n",
       "      <td>Credit reporting, credit repair services, or o...</td>\n",
       "      <td>Credit reporting</td>\n",
       "      <td>Incorrect information on your report</td>\n",
       "      <td>Information belongs to someone else</td>\n",
       "      <td>I DO NOT CONSENT TO, AUTHORIZE NOR BENEFIT FRO...</td>\n",
       "      <td>NaN</td>\n",
       "      <td>EQUIFAX, INC.</td>\n",
       "      <td>DC</td>\n",
       "      <td>20002</td>\n",
       "      <td>NaN</td>\n",
       "      <td>Consent provided</td>\n",
       "      <td>Web</td>\n",
       "      <td>2022-03-30</td>\n",
       "      <td>Closed with explanation</td>\n",
       "      <td>Yes</td>\n",
       "      <td>NaN</td>\n",
       "      <td>5384143</td>\n",
       "    </tr>\n",
       "    <tr>\n",
       "      <th>138206</th>\n",
       "      <td>2024-03-20</td>\n",
       "      <td>Credit reporting or other personal consumer re...</td>\n",
       "      <td>Credit reporting</td>\n",
       "      <td>Improper use of your report</td>\n",
       "      <td>Reporting company used your report improperly</td>\n",
       "      <td>I am writing to file a complaint regarding a v...</td>\n",
       "      <td>Company has responded to the consumer and the ...</td>\n",
       "      <td>Experian Information Solutions Inc.</td>\n",
       "      <td>FL</td>\n",
       "      <td>32909</td>\n",
       "      <td>NaN</td>\n",
       "      <td>Consent provided</td>\n",
       "      <td>Web</td>\n",
       "      <td>2024-03-20</td>\n",
       "      <td>Closed with explanation</td>\n",
       "      <td>Yes</td>\n",
       "      <td>NaN</td>\n",
       "      <td>8588585</td>\n",
       "    </tr>\n",
       "    <tr>\n",
       "      <th>138212</th>\n",
       "      <td>2024-06-04</td>\n",
       "      <td>Credit reporting or other personal consumer re...</td>\n",
       "      <td>Credit reporting</td>\n",
       "      <td>Improper use of your report</td>\n",
       "      <td>Reporting company used your report improperly</td>\n",
       "      <td>I am writing to formally lodge a complaint con...</td>\n",
       "      <td>Company has responded to the consumer and the ...</td>\n",
       "      <td>Experian Information Solutions Inc.</td>\n",
       "      <td>IL</td>\n",
       "      <td>60901</td>\n",
       "      <td>NaN</td>\n",
       "      <td>Consent provided</td>\n",
       "      <td>Web</td>\n",
       "      <td>2024-06-04</td>\n",
       "      <td>Closed with explanation</td>\n",
       "      <td>Yes</td>\n",
       "      <td>NaN</td>\n",
       "      <td>9176689</td>\n",
       "    </tr>\n",
       "    <tr>\n",
       "      <th>138215</th>\n",
       "      <td>2024-04-23</td>\n",
       "      <td>Credit reporting or other personal consumer re...</td>\n",
       "      <td>Credit reporting</td>\n",
       "      <td>Problem with a company's investigation into an...</td>\n",
       "      <td>Was not notified of investigation status or re...</td>\n",
       "      <td>I have consistently maintained on-time payment...</td>\n",
       "      <td>Company has responded to the consumer and the ...</td>\n",
       "      <td>TRANSUNION INTERMEDIATE HOLDINGS, INC.</td>\n",
       "      <td>TX</td>\n",
       "      <td>751XX</td>\n",
       "      <td>NaN</td>\n",
       "      <td>Consent provided</td>\n",
       "      <td>Web</td>\n",
       "      <td>2024-04-23</td>\n",
       "      <td>Closed with non-monetary relief</td>\n",
       "      <td>Yes</td>\n",
       "      <td>NaN</td>\n",
       "      <td>8831475</td>\n",
       "    </tr>\n",
       "    <tr>\n",
       "      <th>138216</th>\n",
       "      <td>2021-07-03</td>\n",
       "      <td>Credit reporting, credit repair services, or o...</td>\n",
       "      <td>Credit reporting</td>\n",
       "      <td>Problem with a credit reporting company's inve...</td>\n",
       "      <td>Difficulty submitting a dispute or getting inf...</td>\n",
       "      <td>I have tried to send my disputes to the major ...</td>\n",
       "      <td>NaN</td>\n",
       "      <td>EQUIFAX, INC.</td>\n",
       "      <td>CA</td>\n",
       "      <td>93704</td>\n",
       "      <td>NaN</td>\n",
       "      <td>Consent provided</td>\n",
       "      <td>Web</td>\n",
       "      <td>2021-07-03</td>\n",
       "      <td>Closed with explanation</td>\n",
       "      <td>Yes</td>\n",
       "      <td>NaN</td>\n",
       "      <td>4514344</td>\n",
       "    </tr>\n",
       "  </tbody>\n",
       "</table>\n",
       "<p>20000 rows × 18 columns</p>\n",
       "</div>"
      ],
      "text/plain": [
       "       Date received                                            Product  \\\n",
       "4         2020-05-08  Credit reporting, credit repair services, or o...   \n",
       "11        2024-01-05  Credit reporting or other personal consumer re...   \n",
       "15        2025-02-14  Credit reporting or other personal consumer re...   \n",
       "44        2025-07-31  Credit reporting or other personal consumer re...   \n",
       "59        2025-07-21  Credit reporting or other personal consumer re...   \n",
       "...              ...                                                ...   \n",
       "138197    2022-03-30  Credit reporting, credit repair services, or o...   \n",
       "138206    2024-03-20  Credit reporting or other personal consumer re...   \n",
       "138212    2024-06-04  Credit reporting or other personal consumer re...   \n",
       "138215    2024-04-23  Credit reporting or other personal consumer re...   \n",
       "138216    2021-07-03  Credit reporting, credit repair services, or o...   \n",
       "\n",
       "             Sub-product                                              Issue  \\\n",
       "4       Credit reporting               Incorrect information on your report   \n",
       "11      Credit reporting               Incorrect information on your report   \n",
       "15      Credit reporting                        Improper use of your report   \n",
       "44      Credit reporting               Incorrect information on your report   \n",
       "59      Credit reporting               Incorrect information on your report   \n",
       "...                  ...                                                ...   \n",
       "138197  Credit reporting               Incorrect information on your report   \n",
       "138206  Credit reporting                        Improper use of your report   \n",
       "138212  Credit reporting                        Improper use of your report   \n",
       "138215  Credit reporting  Problem with a company's investigation into an...   \n",
       "138216  Credit reporting  Problem with a credit reporting company's inve...   \n",
       "\n",
       "                                                Sub-issue  \\\n",
       "4                     Information belongs to someone else   \n",
       "11                    Information belongs to someone else   \n",
       "15          Reporting company used your report improperly   \n",
       "44                    Information belongs to someone else   \n",
       "59                    Information belongs to someone else   \n",
       "...                                                   ...   \n",
       "138197                Information belongs to someone else   \n",
       "138206      Reporting company used your report improperly   \n",
       "138212      Reporting company used your report improperly   \n",
       "138215  Was not notified of investigation status or re...   \n",
       "138216  Difficulty submitting a dispute or getting inf...   \n",
       "\n",
       "                             Consumer complaint narrative  \\\n",
       "4                              These are not my accounts.   \n",
       "11      Kindly address this issue on my credit report....   \n",
       "15      There are XXXX collections being reported to t...   \n",
       "44      Good day, filing this complaint to follow up m...   \n",
       "59      I am writing to have the following information...   \n",
       "...                                                   ...   \n",
       "138197  I DO NOT CONSENT TO, AUTHORIZE NOR BENEFIT FRO...   \n",
       "138206  I am writing to file a complaint regarding a v...   \n",
       "138212  I am writing to formally lodge a complaint con...   \n",
       "138215  I have consistently maintained on-time payment...   \n",
       "138216  I have tried to send my disputes to the major ...   \n",
       "\n",
       "                                  Company public response  \\\n",
       "4       Company has responded to the consumer and the ...   \n",
       "11      Company has responded to the consumer and the ...   \n",
       "15      Company believes it acted appropriately as aut...   \n",
       "44                                                    NaN   \n",
       "59                                                    NaN   \n",
       "...                                                   ...   \n",
       "138197                                                NaN   \n",
       "138206  Company has responded to the consumer and the ...   \n",
       "138212  Company has responded to the consumer and the ...   \n",
       "138215  Company has responded to the consumer and the ...   \n",
       "138216                                                NaN   \n",
       "\n",
       "                                       Company State ZIP code Tags  \\\n",
       "4          Experian Information Solutions Inc.    NV    89030  NaN   \n",
       "11         Experian Information Solutions Inc.    IL    60502  NaN   \n",
       "15          Lockhart, Morris & Montgomery Inc.    FL    33801  NaN   \n",
       "44                               EQUIFAX, INC.    WV    254XX  NaN   \n",
       "59                               EQUIFAX, INC.    MD    21244  NaN   \n",
       "...                                        ...   ...      ...  ...   \n",
       "138197                           EQUIFAX, INC.    DC    20002  NaN   \n",
       "138206     Experian Information Solutions Inc.    FL    32909  NaN   \n",
       "138212     Experian Information Solutions Inc.    IL    60901  NaN   \n",
       "138215  TRANSUNION INTERMEDIATE HOLDINGS, INC.    TX    751XX  NaN   \n",
       "138216                           EQUIFAX, INC.    CA    93704  NaN   \n",
       "\n",
       "       Consumer consent provided? Submitted via Date sent to company  \\\n",
       "4                Consent provided           Web           2020-05-08   \n",
       "11               Consent provided           Web           2024-01-05   \n",
       "15               Consent provided           Web           2025-02-21   \n",
       "44               Consent provided           Web           2025-07-31   \n",
       "59               Consent provided           Web           2025-07-21   \n",
       "...                           ...           ...                  ...   \n",
       "138197           Consent provided           Web           2022-03-30   \n",
       "138206           Consent provided           Web           2024-03-20   \n",
       "138212           Consent provided           Web           2024-06-04   \n",
       "138215           Consent provided           Web           2024-04-23   \n",
       "138216           Consent provided           Web           2021-07-03   \n",
       "\n",
       "           Company response to consumer Timely response? Consumer disputed?  \\\n",
       "4               Closed with explanation              Yes                NaN   \n",
       "11      Closed with non-monetary relief              Yes                NaN   \n",
       "15              Closed with explanation              Yes                NaN   \n",
       "44              Closed with explanation              Yes                NaN   \n",
       "59      Closed with non-monetary relief              Yes                NaN   \n",
       "...                                 ...              ...                ...   \n",
       "138197          Closed with explanation              Yes                NaN   \n",
       "138206          Closed with explanation              Yes                NaN   \n",
       "138212          Closed with explanation              Yes                NaN   \n",
       "138215  Closed with non-monetary relief              Yes                NaN   \n",
       "138216          Closed with explanation              Yes                NaN   \n",
       "\n",
       "        Complaint ID  \n",
       "4            3642453  \n",
       "11           8113747  \n",
       "15          12085091  \n",
       "44          15008491  \n",
       "59          14774438  \n",
       "...              ...  \n",
       "138197       5384143  \n",
       "138206       8588585  \n",
       "138212       9176689  \n",
       "138215       8831475  \n",
       "138216       4514344  \n",
       "\n",
       "[20000 rows x 18 columns]"
      ]
     },
     "execution_count": 11,
     "metadata": {},
     "output_type": "execute_result"
    }
   ],
   "source": [
    "df = df.head(20000)\n",
    "df"
   ]
  },
  {
   "cell_type": "markdown",
   "id": "424de837-0960-4a4b-85c4-6022153175a5",
   "metadata": {},
   "source": [
    "## Show missing values of the dataset"
   ]
  },
  {
   "cell_type": "code",
   "execution_count": 12,
   "id": "50e6a97c-e6de-442b-bffb-9883db8e8d1e",
   "metadata": {
    "scrolled": true
   },
   "outputs": [
    {
     "name": "stdout",
     "output_type": "stream",
     "text": [
      "Dataset shape: (20000, 18)\n",
      "\n",
      "Missing values per column:\n",
      " Consumer disputed?              19137\n",
      "Tags                            18115\n",
      "Company public response          9405\n",
      "Sub-issue                        1648\n",
      "Sub-product                       267\n",
      "State                              53\n",
      "Date received                       0\n",
      "Submitted via                       0\n",
      "Timely response?                    0\n",
      "Company response to consumer        0\n",
      "dtype: int64\n"
     ]
    }
   ],
   "source": [
    "print(\"Dataset shape:\", df.shape)\n",
    "print(\"\\nMissing values per column:\\n\", df.isna().sum().sort_values(ascending=False).head(10))\n"
   ]
  },
  {
   "cell_type": "markdown",
   "id": "f72e91df-52d6-4a1c-b35a-33120f9ff1ec",
   "metadata": {},
   "source": [
    "## Companies with Most Fraud-related Complaints"
   ]
  },
  {
   "cell_type": "code",
   "execution_count": 13,
   "id": "437a0c93-fedd-468d-82f2-9da80076e92b",
   "metadata": {},
   "outputs": [],
   "source": [
    "\n",
    "# Filter fraud-related issues (using keywords)\n",
    "fraud_df = df[df[\"Issue\"].str.contains(\"fraud|scam|identity theft\", case=False, na=False)]\n",
    "top_fraud_companies = fraud_df[\"Company\"].value_counts().head(10)\n",
    "top_fraud_states = fraud_df[\"State\"].value_counts().head(10)\n"
   ]
  },
  {
   "cell_type": "code",
   "execution_count": 14,
   "id": "16e0a5b1-9fb4-49cd-b8f5-cd8553aabf6f",
   "metadata": {
    "scrolled": true
   },
   "outputs": [
    {
     "name": "stdout",
     "output_type": "stream",
     "text": [
      "\n",
      "Top 10 Companies with Fraud-related Complaints:\n",
      " Company\n",
      "Experian Information Solutions Inc.       44\n",
      "EQUIFAX, INC.                             39\n",
      "TRANSUNION INTERMEDIATE HOLDINGS, INC.    26\n",
      "Block, Inc.                               18\n",
      "JPMORGAN CHASE & CO.                      18\n",
      "Paypal Holdings, Inc                      18\n",
      "WELLS FARGO & COMPANY                     16\n",
      "Early Warning Services, LLC               16\n",
      "BANK OF AMERICA, NATIONAL ASSOCIATION     13\n",
      "Coinbase, Inc.                            10\n",
      "Name: count, dtype: int64\n",
      "\n",
      "Top 10 States with Fraud-related Complaints:\n",
      " State\n",
      "CA    42\n",
      "FL    41\n",
      "TX    30\n",
      "NY    27\n",
      "GA    19\n",
      "IL    15\n",
      "PA    13\n",
      "NJ    12\n",
      "WA    12\n",
      "VA    11\n",
      "Name: count, dtype: int64\n"
     ]
    }
   ],
   "source": [
    "print(\"\\nTop 10 Companies with Fraud-related Complaints:\\n\", top_fraud_companies)\n",
    "print(\"\\nTop 10 States with Fraud-related Complaints:\\n\", top_fraud_states)\n"
   ]
  },
  {
   "cell_type": "markdown",
   "id": "f6bba269-579d-4f40-b2df-8b18af0b23b3",
   "metadata": {},
   "source": [
    "## Most Disputed Issues & Products"
   ]
  },
  {
   "cell_type": "code",
   "execution_count": 15,
   "id": "c5514c97-05e7-41aa-aee3-77677cbb7409",
   "metadata": {},
   "outputs": [],
   "source": [
    "\n",
    "disputed_df = df[df[\"Consumer disputed?\"].str.lower() == \"yes\"]\n",
    "top_disputed_issues = disputed_df[\"Issue\"].value_counts().head(10)\n",
    "top_disputed_products = disputed_df[\"Product\"].value_counts().head(10)"
   ]
  },
  {
   "cell_type": "code",
   "execution_count": 16,
   "id": "a158a7bf-8d8c-41b3-83b9-50a0f9af05e4",
   "metadata": {
    "scrolled": true
   },
   "outputs": [
    {
     "name": "stdout",
     "output_type": "stream",
     "text": [
      "\n",
      "Top Disputed Issues:\n",
      " Issue\n",
      "Incorrect information on credit report      27\n",
      "Loan servicing, payments, escrow account    17\n",
      "Cont'd attempts collect debt not owed       15\n",
      "Loan modification,collection,foreclosure    12\n",
      "Dealing with my lender or servicer          10\n",
      "Disclosure verification of debt              8\n",
      "Credit reporting company's investigation     7\n",
      "Account opening, closing, or management      6\n",
      "False statements or representation           5\n",
      "Taking out the loan or lease                 5\n",
      "Name: count, dtype: int64\n",
      "\n",
      "Top Disputed Products:\n",
      " Product\n",
      "Debt collection            38\n",
      "Mortgage                   37\n",
      "Credit reporting           36\n",
      "Credit card                21\n",
      "Bank account or service    16\n",
      "Student loan               13\n",
      "Consumer Loan              13\n",
      "Money transfers             3\n",
      "Prepaid card                3\n",
      "Payday loan                 1\n",
      "Name: count, dtype: int64\n"
     ]
    }
   ],
   "source": [
    "print(\"\\nTop Disputed Issues:\\n\", top_disputed_issues)\n",
    "print(\"\\nTop Disputed Products:\\n\", top_disputed_products)\n"
   ]
  },
  {
   "cell_type": "markdown",
   "id": "b2bd5bb3-1623-4161-bcd9-3bcfaf9b764b",
   "metadata": {},
   "source": [
    "## Complaint Volume Over Time"
   ]
  },
  {
   "cell_type": "code",
   "execution_count": 17,
   "id": "4f03b5c6-71fb-4c7d-97e3-a99b7e1e9b9e",
   "metadata": {},
   "outputs": [],
   "source": [
    "\n",
    "complaints_over_time = df.groupby(df[\"Date received\"].dt.to_period(\"M\")).size()\n",
    "complaints_over_time.index = complaints_over_time.index.to_timestamp()\n"
   ]
  },
  {
   "cell_type": "code",
   "execution_count": 18,
   "id": "d952b796-f9bb-486a-ba33-3530ad6c152d",
   "metadata": {
    "scrolled": true
   },
   "outputs": [
    {
     "name": "stderr",
     "output_type": "stream",
     "text": [
      "/opt/conda/envs/anaconda-panel-2023.05-py310/lib/python3.11/site-packages/IPython/core/pylabtools.py:152: UserWarning: Glyph 128200 (\\N{CHART WITH UPWARDS TREND}) missing from current font.\n",
      "  fig.canvas.print_figure(bytes_io, **kw)\n"
     ]
    },
    {
     "data": {
      "image/png": "[encoded data removed]",
      "text/plain": [
       "<Figure size 1000x500 with 1 Axes>"
      ]
     },
     "metadata": {},
     "output_type": "display_data"
    }
   ],
   "source": [
    "plt.figure(figsize=(10, 5))\n",
    "complaints_over_time.plot(kind=\"line\", color=\"teal\", linewidth=2)\n",
    "plt.title(\"📈 Complaints Trend Over Time\")\n",
    "plt.xlabel(\"Date\")\n",
    "plt.ylabel(\"Number of Complaints\")\n",
    "plt.grid(True)\n",
    "plt.show()"
   ]
  },
  {
   "cell_type": "markdown",
   "id": "117838e2-c5a9-49ff-b8c8-9f1f9a639e22",
   "metadata": {},
   "source": [
    "## Average Response Time"
   ]
  },
  {
   "cell_type": "code",
   "execution_count": 19,
   "id": "301a1ec6-2d48-4722-bdfb-f6d8a0770cba",
   "metadata": {
    "scrolled": true
   },
   "outputs": [
    {
     "name": "stdout",
     "output_type": "stream",
     "text": [
      "\n",
      "Top 10 Fastest Companies by Average Response Time (days):\n",
      " Company\n",
      "1st Franklin Financial Corporation                  0.0\n",
      "Sequoia Financial Services                          0.0\n",
      "Guidiville Indian Rancheria                         0.0\n",
      "Guild Holdings Company                              0.0\n",
      "Gurstel Law Firm, P.C.                              0.0\n",
      "HCFS Healthcare Financial Services of TeamHealth    0.0\n",
      "HEAD MERCANTILE CO., INC.                           0.0\n",
      "Sentry Recovery and Collections, Inc.               0.0\n",
      "Sentry Credit, Inc.                                 0.0\n",
      "Hanwha QCells USA Corp                              0.0\n",
      "Name: Response Time (days), dtype: float64\n"
     ]
    }
   ],
   "source": [
    "\n",
    "df[\"Response Time (days)\"] = (df[\"Date sent to company\"] - df[\"Date received\"]).dt.days\n",
    "avg_response_by_company = df.groupby(\"Company\")[\"Response Time (days)\"].mean().sort_values().head(10)\n",
    "\n",
    "print(\"\\nTop 10 Fastest Companies by Average Response Time (days):\\n\", avg_response_by_company)\n"
   ]
  },
  {
   "cell_type": "markdown",
   "id": "289d5363-538c-487b-8d8f-546c5c4db651",
   "metadata": {},
   "source": [
    "## Resolution Success Rate"
   ]
  },
  {
   "cell_type": "code",
   "execution_count": 20,
   "id": "3a8f440f-8ce0-49df-899a-00f8e2fa88e1",
   "metadata": {},
   "outputs": [
    {
     "name": "stdout",
     "output_type": "stream",
     "text": [
      "\n",
      "Sample of Resolution Success Rate by Company:\n",
      " Company response to consumer        Closed  Closed with explanation  \\\n",
      "Company                                                               \n",
      "1st Franklin Financial Corporation     0.0                      1.0   \n",
      "21ST MORTGAGE CORP.                    0.0                      1.0   \n",
      "2288984 Ontario Inc.                   0.0                      1.0   \n",
      "A & O Recovery Solutions, LLC          0.0                      0.0   \n",
      "ACIMA CREDIT, LLC                      0.0                      0.9   \n",
      "...                                    ...                      ...   \n",
      "Zions Debt Holdings                    0.0                      1.0   \n",
      "Zip Co US Inc.                         0.0                      1.0   \n",
      "ZuntaFi Corp                           0.0                      1.0   \n",
      "eCon Credit LP                         0.0                      0.0   \n",
      "eToro USA LLC                          0.0                      1.0   \n",
      "\n",
      "Company response to consumer        Closed with monetary relief  \\\n",
      "Company                                                           \n",
      "1st Franklin Financial Corporation                          0.0   \n",
      "21ST MORTGAGE CORP.                                         0.0   \n",
      "2288984 Ontario Inc.                                        0.0   \n",
      "A & O Recovery Solutions, LLC                               0.0   \n",
      "ACIMA CREDIT, LLC                                           0.0   \n",
      "...                                                         ...   \n",
      "Zions Debt Holdings                                         0.0   \n",
      "Zip Co US Inc.                                              0.0   \n",
      "ZuntaFi Corp                                                0.0   \n",
      "eCon Credit LP                                              0.0   \n",
      "eToro USA LLC                                               0.0   \n",
      "\n",
      "Company response to consumer        Closed with non-monetary relief  \\\n",
      "Company                                                               \n",
      "1st Franklin Financial Corporation                              0.0   \n",
      "21ST MORTGAGE CORP.                                             0.0   \n",
      "2288984 Ontario Inc.                                            0.0   \n",
      "A & O Recovery Solutions, LLC                                   0.0   \n",
      "ACIMA CREDIT, LLC                                               0.1   \n",
      "...                                                             ...   \n",
      "Zions Debt Holdings                                             0.0   \n",
      "Zip Co US Inc.                                                  0.0   \n",
      "ZuntaFi Corp                                                    0.0   \n",
      "eCon Credit LP                                                  0.0   \n",
      "eToro USA LLC                                                   0.0   \n",
      "\n",
      "Company response to consumer        In progress  Untimely response  \n",
      "Company                                                             \n",
      "1st Franklin Financial Corporation          0.0                0.0  \n",
      "21ST MORTGAGE CORP.                         0.0                0.0  \n",
      "2288984 Ontario Inc.                        0.0                0.0  \n",
      "A & O Recovery Solutions, LLC               0.0                1.0  \n",
      "ACIMA CREDIT, LLC                           0.0                0.0  \n",
      "...                                         ...                ...  \n",
      "Zions Debt Holdings                         0.0                0.0  \n",
      "Zip Co US Inc.                              0.0                0.0  \n",
      "ZuntaFi Corp                                0.0                0.0  \n",
      "eCon Credit LP                              0.0                1.0  \n",
      "eToro USA LLC                               0.0                0.0  \n",
      "\n",
      "[999 rows x 6 columns]\n"
     ]
    }
   ],
   "source": [
    "\n",
    "resolution = (\n",
    "    df.groupby(\"Company\")[\"Company response to consumer\"]\n",
    "    .value_counts(normalize=True)\n",
    "    .unstack(fill_value=0)\n",
    ")\n",
    "print(\"\\nSample of Resolution Success Rate by Company:\\n\", resolution)\n"
   ]
  },
  {
   "cell_type": "markdown",
   "id": "48928be6-f27e-4316-8720-87db4cc32241",
   "metadata": {},
   "source": [
    "## Timely Response Summary"
   ]
  },
  {
   "cell_type": "code",
   "execution_count": 21,
   "id": "2d8252c3-e512-416f-a1a3-0ff77d0aeddf",
   "metadata": {
    "scrolled": true
   },
   "outputs": [
    {
     "name": "stdout",
     "output_type": "stream",
     "text": [
      "\n",
      "Timely Response Rate (%):\n",
      " Timely response?\n",
      "Yes    98.76\n",
      "No      1.24\n",
      "Name: proportion, dtype: float64\n"
     ]
    }
   ],
   "source": [
    "\n",
    "timely = df[\"Timely response?\"].value_counts(normalize=True) * 100\n",
    "print(\"\\nTimely Response Rate (%):\\n\", timely)"
   ]
  },
  {
   "cell_type": "markdown",
   "id": "7b67a66c-1b2a-4f1a-8d73-bc9640e14ff1",
   "metadata": {},
   "source": [
    "## Save Clean Data & Results"
   ]
  },
  {
   "cell_type": "code",
   "execution_count": 22,
   "id": "4e27d51d-af2b-4a66-8ddd-6f80b9f84804",
   "metadata": {},
   "outputs": [],
   "source": [
    "\n",
    "df.to_csv(\"complaints_cleaned.csv\", index=False)\n",
    "top_fraud_companies.to_csv(\"top_fraud_companies.csv\")\n",
    "top_disputed_issues.to_csv(\"top_disputed_issues.csv\")"
   ]
  },
  {
   "cell_type": "markdown",
   "id": "57e1e20e-98a2-4aee-8cf6-cf47bf9c9295",
   "metadata": {},
   "source": [
    "# Sentiment Analysis Using VADER"
   ]
  },
  {
   "cell_type": "markdown",
   "id": "8def2a33-b1ce-42de-a632-b0b806195945",
   "metadata": {},
   "source": [
    "## Import Libraries for VADER "
   ]
  },
  {
   "cell_type": "code",
   "execution_count": 23,
   "id": "75ccc0da-5147-422f-88c7-f6a71b727dd6",
   "metadata": {
    "scrolled": true
   },
   "outputs": [
    {
     "name": "stderr",
     "output_type": "stream",
     "text": [
      "[nltk_data] Downloading package punkt to\n",
      "[nltk_data]     /home/6c612a95-9c07-40bd-a729-\n",
      "[nltk_data]     be10b96bcad3/nltk_data...\n",
      "[nltk_data]   Package punkt is already up-to-date!\n",
      "[nltk_data] Downloading package stopwords to\n",
      "[nltk_data]     /home/6c612a95-9c07-40bd-a729-\n",
      "[nltk_data]     be10b96bcad3/nltk_data...\n",
      "[nltk_data]   Package stopwords is already up-to-date!\n",
      "[nltk_data] Downloading package vader_lexicon to\n",
      "[nltk_data]     /home/6c612a95-9c07-40bd-a729-\n",
      "[nltk_data]     be10b96bcad3/nltk_data...\n",
      "[nltk_data]   Package vader_lexicon is already up-to-date!\n",
      "[nltk_data] Downloading package averaged_perceptron_tagger to\n",
      "[nltk_data]     /home/6c612a95-9c07-40bd-a729-\n",
      "[nltk_data]     be10b96bcad3/nltk_data...\n",
      "[nltk_data]   Package averaged_perceptron_tagger is already up-to-\n",
      "[nltk_data]       date!\n",
      "[nltk_data] Downloading package wordnet to\n",
      "[nltk_data]     /home/6c612a95-9c07-40bd-a729-\n",
      "[nltk_data]     be10b96bcad3/nltk_data...\n",
      "[nltk_data]   Package wordnet is already up-to-date!\n",
      "[nltk_data] Downloading package omw-1.4 to\n",
      "[nltk_data]     /home/6c612a95-9c07-40bd-a729-\n",
      "[nltk_data]     be10b96bcad3/nltk_data...\n",
      "[nltk_data]   Package omw-1.4 is already up-to-date!\n",
      "[nltk_data] Downloading package maxent_ne_chunker to\n",
      "[nltk_data]     /home/6c612a95-9c07-40bd-a729-\n",
      "[nltk_data]     be10b96bcad3/nltk_data...\n",
      "[nltk_data]   Package maxent_ne_chunker is already up-to-date!\n",
      "[nltk_data] Downloading package words to\n",
      "[nltk_data]     /home/6c612a95-9c07-40bd-a729-\n",
      "[nltk_data]     be10b96bcad3/nltk_data...\n",
      "[nltk_data]   Package words is already up-to-date!\n"
     ]
    },
    {
     "data": {
      "text/plain": [
       "True"
      ]
     },
     "execution_count": 23,
     "metadata": {},
     "output_type": "execute_result"
    }
   ],
   "source": [
    "import pandas as pd\n",
    "import numpy as np\n",
    "import matplotlib.pyplot as plt\n",
    "import seaborn as sns\n",
    "\n",
    "plt.style.use('ggplot')\n",
    "\n",
    "import nltk\n",
    "import nltk\n",
    "nltk.download('punkt')\n",
    "nltk.download('stopwords')\n",
    "nltk.download('vader_lexicon')\n",
    "nltk.download('averaged_perceptron_tagger')\n",
    "nltk.download('wordnet')\n",
    "nltk.download('omw-1.4')\n",
    "nltk.download('maxent_ne_chunker')\n",
    "nltk.download('words')"
   ]
  },
  {
   "cell_type": "markdown",
   "id": "da6fd57d-c676-4a45-9a95-d2dcb1cfff99",
   "metadata": {},
   "source": [
    "## Prepare Data for Sentiment Analysis "
   ]
  },
  {
   "cell_type": "code",
   "execution_count": 24,
   "id": "19522574-ef02-4eda-8ed2-7cce996d183f",
   "metadata": {},
   "outputs": [],
   "source": [
    "df = df.reset_index(drop=True)\n"
   ]
  },
  {
   "cell_type": "code",
   "execution_count": 25,
   "id": "93957fda-bd4e-4fe3-a081-277ab4196ed5",
   "metadata": {},
   "outputs": [
    {
     "name": "stdout",
     "output_type": "stream",
     "text": [
      "0                               These are not my accounts.\n",
      "1        Kindly address this issue on my credit report....\n",
      "2        There are XXXX collections being reported to t...\n",
      "3        Good day, filing this complaint to follow up m...\n",
      "4        I am writing to have the following information...\n",
      "                               ...                        \n",
      "19995    I DO NOT CONSENT TO, AUTHORIZE NOR BENEFIT FRO...\n",
      "19996    I am writing to file a complaint regarding a v...\n",
      "19997    I am writing to formally lodge a complaint con...\n",
      "19998    I have consistently maintained on-time payment...\n",
      "19999    I have tried to send my disputes to the major ...\n",
      "Name: Consumer complaint narrative, Length: 20000, dtype: object\n"
     ]
    }
   ],
   "source": [
    "example = df['Consumer complaint narrative']\n",
    "print(example)"
   ]
  },
  {
   "cell_type": "code",
   "execution_count": 26,
   "id": "ae5159bf-913e-4331-8c4f-2480fbe69ca0",
   "metadata": {},
   "outputs": [
    {
     "name": "stdout",
     "output_type": "stream",
     "text": [
      "(20000, 19)\n"
     ]
    }
   ],
   "source": [
    "df = df.dropna(subset=['Consumer complaint narrative'])\n",
    "print(df.shape)\n"
   ]
  },
  {
   "cell_type": "markdown",
   "id": "549610af-576f-4699-a4ec-dbc168da23e4",
   "metadata": {},
   "source": [
    "## VADER Seniment Scoring"
   ]
  },
  {
   "cell_type": "markdown",
   "id": "f0c0d4e0-de5d-4a07-812e-3369fac14018",
   "metadata": {},
   "source": [
    "### Import Libraries for VADER Sentiment Scoring"
   ]
  },
  {
   "cell_type": "code",
   "execution_count": 27,
   "id": "8fcad56e-5047-4491-aee9-04257688ea28",
   "metadata": {},
   "outputs": [],
   "source": [
    "from nltk.sentiment import SentimentIntensityAnalyzer\n",
    "from tqdm.notebook import tqdm\n",
    "\n",
    "sia = SentimentIntensityAnalyzer()"
   ]
  },
  {
   "cell_type": "markdown",
   "id": "ef53357e-baaf-4af1-8f68-4c5bec94f4cb",
   "metadata": {},
   "source": [
    "### Run the polarity score on the entire dataset"
   ]
  },
  {
   "cell_type": "code",
   "execution_count": 28,
   "id": "fdbc67ee-a35f-48f3-84cb-c72db4900909",
   "metadata": {},
   "outputs": [
    {
     "data": {
      "application/vnd.jupyter.widget-view+json": {
       "model_id": "374c8c9f0b554cac8ad261df5e312198",
       "version_major": 2,
       "version_minor": 0
      },
      "text/plain": [
       "  0%|          | 0/20000 [00:00<?, ?it/s]"
      ]
     },
     "metadata": {},
     "output_type": "display_data"
    }
   ],
   "source": [
    "res = {}\n",
    "for i, row in tqdm(df.iterrows(), total=len(df)):\n",
    "    text = row['Consumer complaint narrative']\n",
    "    com_id = row['Complaint ID']\n",
    "    res[com_id] = sia.polarity_scores(text)"
   ]
  },
  {
   "cell_type": "markdown",
   "id": "a354c701-a677-4a28-909c-42debf51948a",
   "metadata": {},
   "source": [
    "### Add sentiment score with entire dataset"
   ]
  },
  {
   "cell_type": "code",
   "execution_count": 29,
   "id": "d9a66969-a480-417e-9181-05221231209e",
   "metadata": {},
   "outputs": [
    {
     "data": {
      "text/html": [
       "<div>\n",
       "<style scoped>\n",
       "    .dataframe tbody tr th:only-of-type {\n",
       "        vertical-align: middle;\n",
       "    }\n",
       "\n",
       "    .dataframe tbody tr th {\n",
       "        vertical-align: top;\n",
       "    }\n",
       "\n",
       "    .dataframe thead th {\n",
       "        text-align: right;\n",
       "    }\n",
       "</style>\n",
       "<table border=\"1\" class=\"dataframe\">\n",
       "  <thead>\n",
       "    <tr style=\"text-align: right;\">\n",
       "      <th></th>\n",
       "      <th>Complaint ID</th>\n",
       "      <th>neg</th>\n",
       "      <th>neu</th>\n",
       "      <th>pos</th>\n",
       "      <th>compound</th>\n",
       "      <th>Date received</th>\n",
       "      <th>Product</th>\n",
       "      <th>Sub-product</th>\n",
       "      <th>Issue</th>\n",
       "      <th>Sub-issue</th>\n",
       "      <th>...</th>\n",
       "      <th>State</th>\n",
       "      <th>ZIP code</th>\n",
       "      <th>Tags</th>\n",
       "      <th>Consumer consent provided?</th>\n",
       "      <th>Submitted via</th>\n",
       "      <th>Date sent to company</th>\n",
       "      <th>Company response to consumer</th>\n",
       "      <th>Timely response?</th>\n",
       "      <th>Consumer disputed?</th>\n",
       "      <th>Response Time (days)</th>\n",
       "    </tr>\n",
       "  </thead>\n",
       "  <tbody>\n",
       "    <tr>\n",
       "      <th>0</th>\n",
       "      <td>3642453</td>\n",
       "      <td>0.000</td>\n",
       "      <td>1.000</td>\n",
       "      <td>0.000</td>\n",
       "      <td>0.0000</td>\n",
       "      <td>2020-05-08</td>\n",
       "      <td>Credit reporting, credit repair services, or o...</td>\n",
       "      <td>Credit reporting</td>\n",
       "      <td>Incorrect information on your report</td>\n",
       "      <td>Information belongs to someone else</td>\n",
       "      <td>...</td>\n",
       "      <td>NV</td>\n",
       "      <td>89030</td>\n",
       "      <td>NaN</td>\n",
       "      <td>Consent provided</td>\n",
       "      <td>Web</td>\n",
       "      <td>2020-05-08</td>\n",
       "      <td>Closed with explanation</td>\n",
       "      <td>Yes</td>\n",
       "      <td>NaN</td>\n",
       "      <td>0</td>\n",
       "    </tr>\n",
       "    <tr>\n",
       "      <th>1</th>\n",
       "      <td>8113747</td>\n",
       "      <td>0.136</td>\n",
       "      <td>0.664</td>\n",
       "      <td>0.199</td>\n",
       "      <td>0.4118</td>\n",
       "      <td>2024-01-05</td>\n",
       "      <td>Credit reporting or other personal consumer re...</td>\n",
       "      <td>Credit reporting</td>\n",
       "      <td>Incorrect information on your report</td>\n",
       "      <td>Information belongs to someone else</td>\n",
       "      <td>...</td>\n",
       "      <td>IL</td>\n",
       "      <td>60502</td>\n",
       "      <td>NaN</td>\n",
       "      <td>Consent provided</td>\n",
       "      <td>Web</td>\n",
       "      <td>2024-01-05</td>\n",
       "      <td>Closed with non-monetary relief</td>\n",
       "      <td>Yes</td>\n",
       "      <td>NaN</td>\n",
       "      <td>0</td>\n",
       "    </tr>\n",
       "    <tr>\n",
       "      <th>2</th>\n",
       "      <td>12085091</td>\n",
       "      <td>0.052</td>\n",
       "      <td>0.826</td>\n",
       "      <td>0.122</td>\n",
       "      <td>0.8020</td>\n",
       "      <td>2025-02-14</td>\n",
       "      <td>Credit reporting or other personal consumer re...</td>\n",
       "      <td>Credit reporting</td>\n",
       "      <td>Improper use of your report</td>\n",
       "      <td>Reporting company used your report improperly</td>\n",
       "      <td>...</td>\n",
       "      <td>FL</td>\n",
       "      <td>33801</td>\n",
       "      <td>NaN</td>\n",
       "      <td>Consent provided</td>\n",
       "      <td>Web</td>\n",
       "      <td>2025-02-21</td>\n",
       "      <td>Closed with explanation</td>\n",
       "      <td>Yes</td>\n",
       "      <td>NaN</td>\n",
       "      <td>7</td>\n",
       "    </tr>\n",
       "    <tr>\n",
       "      <th>3</th>\n",
       "      <td>15008491</td>\n",
       "      <td>0.073</td>\n",
       "      <td>0.855</td>\n",
       "      <td>0.072</td>\n",
       "      <td>-0.0516</td>\n",
       "      <td>2025-07-31</td>\n",
       "      <td>Credit reporting or other personal consumer re...</td>\n",
       "      <td>Credit reporting</td>\n",
       "      <td>Incorrect information on your report</td>\n",
       "      <td>Information belongs to someone else</td>\n",
       "      <td>...</td>\n",
       "      <td>WV</td>\n",
       "      <td>254XX</td>\n",
       "      <td>NaN</td>\n",
       "      <td>Consent provided</td>\n",
       "      <td>Web</td>\n",
       "      <td>2025-07-31</td>\n",
       "      <td>Closed with explanation</td>\n",
       "      <td>Yes</td>\n",
       "      <td>NaN</td>\n",
       "      <td>0</td>\n",
       "    </tr>\n",
       "    <tr>\n",
       "      <th>4</th>\n",
       "      <td>14774438</td>\n",
       "      <td>0.040</td>\n",
       "      <td>0.780</td>\n",
       "      <td>0.181</td>\n",
       "      <td>0.9403</td>\n",
       "      <td>2025-07-21</td>\n",
       "      <td>Credit reporting or other personal consumer re...</td>\n",
       "      <td>Credit reporting</td>\n",
       "      <td>Incorrect information on your report</td>\n",
       "      <td>Information belongs to someone else</td>\n",
       "      <td>...</td>\n",
       "      <td>MD</td>\n",
       "      <td>21244</td>\n",
       "      <td>NaN</td>\n",
       "      <td>Consent provided</td>\n",
       "      <td>Web</td>\n",
       "      <td>2025-07-21</td>\n",
       "      <td>Closed with non-monetary relief</td>\n",
       "      <td>Yes</td>\n",
       "      <td>NaN</td>\n",
       "      <td>0</td>\n",
       "    </tr>\n",
       "    <tr>\n",
       "      <th>...</th>\n",
       "      <td>...</td>\n",
       "      <td>...</td>\n",
       "      <td>...</td>\n",
       "      <td>...</td>\n",
       "      <td>...</td>\n",
       "      <td>...</td>\n",
       "      <td>...</td>\n",
       "      <td>...</td>\n",
       "      <td>...</td>\n",
       "      <td>...</td>\n",
       "      <td>...</td>\n",
       "      <td>...</td>\n",
       "      <td>...</td>\n",
       "      <td>...</td>\n",
       "      <td>...</td>\n",
       "      <td>...</td>\n",
       "      <td>...</td>\n",
       "      <td>...</td>\n",
       "      <td>...</td>\n",
       "      <td>...</td>\n",
       "      <td>...</td>\n",
       "    </tr>\n",
       "    <tr>\n",
       "      <th>19995</th>\n",
       "      <td>5384143</td>\n",
       "      <td>0.250</td>\n",
       "      <td>0.702</td>\n",
       "      <td>0.047</td>\n",
       "      <td>-0.9185</td>\n",
       "      <td>2022-03-30</td>\n",
       "      <td>Credit reporting, credit repair services, or o...</td>\n",
       "      <td>Credit reporting</td>\n",
       "      <td>Incorrect information on your report</td>\n",
       "      <td>Information belongs to someone else</td>\n",
       "      <td>...</td>\n",
       "      <td>DC</td>\n",
       "      <td>20002</td>\n",
       "      <td>NaN</td>\n",
       "      <td>Consent provided</td>\n",
       "      <td>Web</td>\n",
       "      <td>2022-03-30</td>\n",
       "      <td>Closed with explanation</td>\n",
       "      <td>Yes</td>\n",
       "      <td>NaN</td>\n",
       "      <td>0</td>\n",
       "    </tr>\n",
       "    <tr>\n",
       "      <th>19996</th>\n",
       "      <td>8588585</td>\n",
       "      <td>0.100</td>\n",
       "      <td>0.820</td>\n",
       "      <td>0.080</td>\n",
       "      <td>-0.7411</td>\n",
       "      <td>2024-03-20</td>\n",
       "      <td>Credit reporting or other personal consumer re...</td>\n",
       "      <td>Credit reporting</td>\n",
       "      <td>Improper use of your report</td>\n",
       "      <td>Reporting company used your report improperly</td>\n",
       "      <td>...</td>\n",
       "      <td>FL</td>\n",
       "      <td>32909</td>\n",
       "      <td>NaN</td>\n",
       "      <td>Consent provided</td>\n",
       "      <td>Web</td>\n",
       "      <td>2024-03-20</td>\n",
       "      <td>Closed with explanation</td>\n",
       "      <td>Yes</td>\n",
       "      <td>NaN</td>\n",
       "      <td>0</td>\n",
       "    </tr>\n",
       "    <tr>\n",
       "      <th>19997</th>\n",
       "      <td>9176689</td>\n",
       "      <td>0.119</td>\n",
       "      <td>0.743</td>\n",
       "      <td>0.139</td>\n",
       "      <td>0.2146</td>\n",
       "      <td>2024-06-04</td>\n",
       "      <td>Credit reporting or other personal consumer re...</td>\n",
       "      <td>Credit reporting</td>\n",
       "      <td>Improper use of your report</td>\n",
       "      <td>Reporting company used your report improperly</td>\n",
       "      <td>...</td>\n",
       "      <td>IL</td>\n",
       "      <td>60901</td>\n",
       "      <td>NaN</td>\n",
       "      <td>Consent provided</td>\n",
       "      <td>Web</td>\n",
       "      <td>2024-06-04</td>\n",
       "      <td>Closed with explanation</td>\n",
       "      <td>Yes</td>\n",
       "      <td>NaN</td>\n",
       "      <td>0</td>\n",
       "    </tr>\n",
       "    <tr>\n",
       "      <th>19998</th>\n",
       "      <td>8831475</td>\n",
       "      <td>0.076</td>\n",
       "      <td>0.850</td>\n",
       "      <td>0.074</td>\n",
       "      <td>-0.0258</td>\n",
       "      <td>2024-04-23</td>\n",
       "      <td>Credit reporting or other personal consumer re...</td>\n",
       "      <td>Credit reporting</td>\n",
       "      <td>Problem with a company's investigation into an...</td>\n",
       "      <td>Was not notified of investigation status or re...</td>\n",
       "      <td>...</td>\n",
       "      <td>TX</td>\n",
       "      <td>751XX</td>\n",
       "      <td>NaN</td>\n",
       "      <td>Consent provided</td>\n",
       "      <td>Web</td>\n",
       "      <td>2024-04-23</td>\n",
       "      <td>Closed with non-monetary relief</td>\n",
       "      <td>Yes</td>\n",
       "      <td>NaN</td>\n",
       "      <td>0</td>\n",
       "    </tr>\n",
       "    <tr>\n",
       "      <th>19999</th>\n",
       "      <td>4514344</td>\n",
       "      <td>0.193</td>\n",
       "      <td>0.663</td>\n",
       "      <td>0.144</td>\n",
       "      <td>-0.2023</td>\n",
       "      <td>2021-07-03</td>\n",
       "      <td>Credit reporting, credit repair services, or o...</td>\n",
       "      <td>Credit reporting</td>\n",
       "      <td>Problem with a credit reporting company's inve...</td>\n",
       "      <td>Difficulty submitting a dispute or getting inf...</td>\n",
       "      <td>...</td>\n",
       "      <td>CA</td>\n",
       "      <td>93704</td>\n",
       "      <td>NaN</td>\n",
       "      <td>Consent provided</td>\n",
       "      <td>Web</td>\n",
       "      <td>2021-07-03</td>\n",
       "      <td>Closed with explanation</td>\n",
       "      <td>Yes</td>\n",
       "      <td>NaN</td>\n",
       "      <td>0</td>\n",
       "    </tr>\n",
       "  </tbody>\n",
       "</table>\n",
       "<p>20000 rows × 23 columns</p>\n",
       "</div>"
      ],
      "text/plain": [
       "       Complaint ID    neg    neu    pos  compound Date received  \\\n",
       "0           3642453  0.000  1.000  0.000    0.0000    2020-05-08   \n",
       "1           8113747  0.136  0.664  0.199    0.4118    2024-01-05   \n",
       "2          12085091  0.052  0.826  0.122    0.8020    2025-02-14   \n",
       "3          15008491  0.073  0.855  0.072   -0.0516    2025-07-31   \n",
       "4          14774438  0.040  0.780  0.181    0.9403    2025-07-21   \n",
       "...             ...    ...    ...    ...       ...           ...   \n",
       "19995       5384143  0.250  0.702  0.047   -0.9185    2022-03-30   \n",
       "19996       8588585  0.100  0.820  0.080   -0.7411    2024-03-20   \n",
       "19997       9176689  0.119  0.743  0.139    0.2146    2024-06-04   \n",
       "19998       8831475  0.076  0.850  0.074   -0.0258    2024-04-23   \n",
       "19999       4514344  0.193  0.663  0.144   -0.2023    2021-07-03   \n",
       "\n",
       "                                                 Product       Sub-product  \\\n",
       "0      Credit reporting, credit repair services, or o...  Credit reporting   \n",
       "1      Credit reporting or other personal consumer re...  Credit reporting   \n",
       "2      Credit reporting or other personal consumer re...  Credit reporting   \n",
       "3      Credit reporting or other personal consumer re...  Credit reporting   \n",
       "4      Credit reporting or other personal consumer re...  Credit reporting   \n",
       "...                                                  ...               ...   \n",
       "19995  Credit reporting, credit repair services, or o...  Credit reporting   \n",
       "19996  Credit reporting or other personal consumer re...  Credit reporting   \n",
       "19997  Credit reporting or other personal consumer re...  Credit reporting   \n",
       "19998  Credit reporting or other personal consumer re...  Credit reporting   \n",
       "19999  Credit reporting, credit repair services, or o...  Credit reporting   \n",
       "\n",
       "                                                   Issue  \\\n",
       "0                   Incorrect information on your report   \n",
       "1                   Incorrect information on your report   \n",
       "2                            Improper use of your report   \n",
       "3                   Incorrect information on your report   \n",
       "4                   Incorrect information on your report   \n",
       "...                                                  ...   \n",
       "19995               Incorrect information on your report   \n",
       "19996                        Improper use of your report   \n",
       "19997                        Improper use of your report   \n",
       "19998  Problem with a company's investigation into an...   \n",
       "19999  Problem with a credit reporting company's inve...   \n",
       "\n",
       "                                               Sub-issue  ... State ZIP code  \\\n",
       "0                    Information belongs to someone else  ...    NV    89030   \n",
       "1                    Information belongs to someone else  ...    IL    60502   \n",
       "2          Reporting company used your report improperly  ...    FL    33801   \n",
       "3                    Information belongs to someone else  ...    WV    254XX   \n",
       "4                    Information belongs to someone else  ...    MD    21244   \n",
       "...                                                  ...  ...   ...      ...   \n",
       "19995                Information belongs to someone else  ...    DC    20002   \n",
       "19996      Reporting company used your report improperly  ...    FL    32909   \n",
       "19997      Reporting company used your report improperly  ...    IL    60901   \n",
       "19998  Was not notified of investigation status or re...  ...    TX    751XX   \n",
       "19999  Difficulty submitting a dispute or getting inf...  ...    CA    93704   \n",
       "\n",
       "      Tags Consumer consent provided? Submitted via Date sent to company  \\\n",
       "0      NaN           Consent provided           Web           2020-05-08   \n",
       "1      NaN           Consent provided           Web           2024-01-05   \n",
       "2      NaN           Consent provided           Web           2025-02-21   \n",
       "3      NaN           Consent provided           Web           2025-07-31   \n",
       "4      NaN           Consent provided           Web           2025-07-21   \n",
       "...    ...                        ...           ...                  ...   \n",
       "19995  NaN           Consent provided           Web           2022-03-30   \n",
       "19996  NaN           Consent provided           Web           2024-03-20   \n",
       "19997  NaN           Consent provided           Web           2024-06-04   \n",
       "19998  NaN           Consent provided           Web           2024-04-23   \n",
       "19999  NaN           Consent provided           Web           2021-07-03   \n",
       "\n",
       "          Company response to consumer Timely response? Consumer disputed?  \\\n",
       "0              Closed with explanation              Yes                NaN   \n",
       "1      Closed with non-monetary relief              Yes                NaN   \n",
       "2              Closed with explanation              Yes                NaN   \n",
       "3              Closed with explanation              Yes                NaN   \n",
       "4      Closed with non-monetary relief              Yes                NaN   \n",
       "...                                ...              ...                ...   \n",
       "19995          Closed with explanation              Yes                NaN   \n",
       "19996          Closed with explanation              Yes                NaN   \n",
       "19997          Closed with explanation              Yes                NaN   \n",
       "19998  Closed with non-monetary relief              Yes                NaN   \n",
       "19999          Closed with explanation              Yes                NaN   \n",
       "\n",
       "      Response Time (days)  \n",
       "0                        0  \n",
       "1                        0  \n",
       "2                        7  \n",
       "3                        0  \n",
       "4                        0  \n",
       "...                    ...  \n",
       "19995                    0  \n",
       "19996                    0  \n",
       "19997                    0  \n",
       "19998                    0  \n",
       "19999                    0  \n",
       "\n",
       "[20000 rows x 23 columns]"
      ]
     },
     "execution_count": 29,
     "metadata": {},
     "output_type": "execute_result"
    }
   ],
   "source": [
    "vaders = pd.DataFrame(res).T\n",
    "vaders = vaders.reset_index().rename(columns={'index': 'Complaint ID'})\n",
    "vaders = vaders.merge(df, how='left')\n",
    "vaders\n"
   ]
  },
  {
   "cell_type": "markdown",
   "id": "ffa364bb-2184-4e6b-ab41-9d926228c3f0",
   "metadata": {},
   "source": [
    "## Cluster VADER Seniment Score Mapping with Tone"
   ]
  },
  {
   "cell_type": "code",
   "execution_count": 30,
   "id": "65d3330c-2793-4ac5-b6e8-66cfb4f390c1",
   "metadata": {},
   "outputs": [],
   "source": [
    "\n",
    "vaders['compound'] = vaders['Consumer complaint narrative'].astype(str).apply(lambda x: sia.polarity_scores(x)['compound'])\n",
    "\n",
    "# Define tone based on compound score\n",
    "vaders['tone'] = vaders['compound'].apply(\n",
    "    lambda x: 'positive' if x > 0.05 else ('negative' if x < -0.05 else 'neutral')\n",
    ")\n"
   ]
  },
  {
   "cell_type": "markdown",
   "id": "db6dda45-ef7e-417c-a63f-d31c4aadd423",
   "metadata": {},
   "source": [
    "### Sentiment tone count"
   ]
  },
  {
   "cell_type": "code",
   "execution_count": 31,
   "id": "5caa84c1-c759-495d-bca0-e6ef6ef64fc6",
   "metadata": {
    "scrolled": true
   },
   "outputs": [
    {
     "name": "stdout",
     "output_type": "stream",
     "text": [
      "tone\n",
      "negative    9712\n",
      "positive    9434\n",
      "neutral      854\n",
      "Name: count, dtype: int64\n"
     ]
    }
   ],
   "source": [
    "tone_counts = vaders['tone'].value_counts()\n",
    "print(tone_counts)\n"
   ]
  },
  {
   "cell_type": "markdown",
   "id": "543439f3-0a3a-4465-89db-7eaa608bc776",
   "metadata": {},
   "source": [
    "## Visualization of Sentiment distribution"
   ]
  },
  {
   "cell_type": "code",
   "execution_count": 32,
   "id": "ca3bd0cf-b899-4322-83cc-850fe2891e54",
   "metadata": {
    "scrolled": true
   },
   "outputs": [
    {
     "data": {
      "image/png": "[encoded data removed]",
      "text/plain": [
       "<Figure size 640x480 with 1 Axes>"
      ]
     },
     "metadata": {},
     "output_type": "display_data"
    }
   ],
   "source": [
    "import seaborn as sns\n",
    "\n",
    "sns.countplot(data=vaders, x='tone', order=['positive','negative','neutral'], palette=['green','red','gray'])\n",
    "plt.title(\"Sentiment Distribution\")\n",
    "plt.show()\n"
   ]
  },
  {
   "cell_type": "markdown",
   "id": "10dc0fe3-831f-4d8e-a0a0-86c49291d621",
   "metadata": {},
   "source": [
    "# Find Common Complaint Clusters Using Latent Dirichlet Allocation (LDA)"
   ]
  },
  {
   "cell_type": "code",
   "execution_count": 33,
   "id": "052f6abd-a42c-4411-ba07-5c97fcf25f6a",
   "metadata": {
    "scrolled": true
   },
   "outputs": [
    {
     "name": "stderr",
     "output_type": "stream",
     "text": [
      "[nltk_data] Downloading package stopwords to\n",
      "[nltk_data]     /home/6c612a95-9c07-40bd-a729-\n",
      "[nltk_data]     be10b96bcad3/nltk_data...\n",
      "[nltk_data]   Package stopwords is already up-to-date!\n",
      "[nltk_data] Downloading package wordnet to\n",
      "[nltk_data]     /home/6c612a95-9c07-40bd-a729-\n",
      "[nltk_data]     be10b96bcad3/nltk_data...\n",
      "[nltk_data]   Package wordnet is already up-to-date!\n"
     ]
    },
    {
     "data": {
      "text/plain": [
       "True"
      ]
     },
     "execution_count": 33,
     "metadata": {},
     "output_type": "execute_result"
    }
   ],
   "source": [
    "import pandas as pd\n",
    "import re\n",
    "from nltk.corpus import stopwords\n",
    "from nltk.stem import WordNetLemmatizer\n",
    "import nltk\n",
    "\n",
    "nltk.download('stopwords')\n",
    "nltk.download('wordnet')\n"
   ]
  },
  {
   "cell_type": "markdown",
   "id": "dde2012a-e376-4ec9-9f16-315047998348",
   "metadata": {},
   "source": [
    "## Process Data for Complain Clustering"
   ]
  },
  {
   "cell_type": "code",
   "execution_count": 34,
   "id": "090c46d1-088a-4cb8-a75e-6def0f4f0b03",
   "metadata": {},
   "outputs": [
    {
     "name": "stderr",
     "output_type": "stream",
     "text": [
      "/tmp/ipykernel_129/1162230237.py:10: SettingWithCopyWarning: \n",
      "A value is trying to be set on a copy of a slice from a DataFrame.\n",
      "Try using .loc[row_indexer,col_indexer] = value instead\n",
      "\n",
      "See the caveats in the documentation: https://pandas.pydata.org/pandas-docs/stable/user_guide/indexing.html#returning-a-view-versus-a-copy\n",
      "  df1['clean_text'] = df1['Consumer complaint narrative'].apply(preprocess)\n"
     ]
    }
   ],
   "source": [
    "stop_words = set(stopwords.words('english'))\n",
    "lemmatizer = WordNetLemmatizer()\n",
    "\n",
    "def preprocess(text):\n",
    "    text = str(text).lower()\n",
    "    text = re.sub(r'[^a-z\\s]', '', text)  # remove punctuation/numbers\n",
    "    tokens = [lemmatizer.lemmatize(word) for word in text.split() if word not in stop_words]\n",
    "    return \" \".join(tokens)\n",
    "df1 = df.head(20000)\n",
    "df1['clean_text'] = df1['Consumer complaint narrative'].apply(preprocess)\n"
   ]
  },
  {
   "cell_type": "code",
   "execution_count": 35,
   "id": "45974810-3938-4b16-9886-6800ec27f385",
   "metadata": {
    "scrolled": true
   },
   "outputs": [
    {
     "data": {
      "text/plain": [
       "0                                                  account\n",
       "1        kindly address issue credit report assert acco...\n",
       "2        xxxx collection reported consumer agency lockh...\n",
       "3        good day filing complaint follow previous lett...\n",
       "4        writing following information removed credit f...\n",
       "                               ...                        \n",
       "19995    consent authorize benefit following alleged ac...\n",
       "19996    writing file complaint regarding violation fai...\n",
       "19997    writing formally lodge complaint concerning in...\n",
       "19998    consistently maintained ontime payment find pe...\n",
       "19999    tried send dispute major credit bureau difficu...\n",
       "Name: clean_text, Length: 20000, dtype: object"
      ]
     },
     "execution_count": 35,
     "metadata": {},
     "output_type": "execute_result"
    }
   ],
   "source": [
    "df1['clean_text']"
   ]
  },
  {
   "cell_type": "markdown",
   "id": "5b0424c9-69e5-421e-a334-3060585a4523",
   "metadata": {},
   "source": [
    "## LDA Model Implementation"
   ]
  },
  {
   "cell_type": "code",
   "execution_count": 36,
   "id": "712a3973-79ed-466c-afce-84b8f41b9fc3",
   "metadata": {
    "scrolled": true
   },
   "outputs": [
    {
     "name": "stdout",
     "output_type": "stream",
     "text": [
      "Topic 1: 0.028*\"xxxx\" + 0.027*\"account\" + 0.017*\"credit\" + 0.013*\"card\" + 0.012*\"bank\" + 0.008*\"money\" + 0.008*\"told\" + 0.008*\"company\" + 0.008*\"time\" + 0.007*\"call\"\n",
      "Topic 2: 0.041*\"debt\" + 0.026*\"consumer\" + 0.015*\"collection\" + 0.012*\"information\" + 0.011*\"agency\" + 0.009*\"law\" + 0.007*\"notice\" + 0.007*\"state\" + 0.007*\"act\" + 0.006*\"provide\"\n",
      "Topic 3: 0.064*\"xxxx\" + 0.027*\"payment\" + 0.020*\"loan\" + 0.019*\"xxxxxxxx\" + 0.008*\"would\" + 0.007*\"mortgage\" + 0.007*\"balance\" + 0.007*\"time\" + 0.007*\"month\" + 0.007*\"paid\"\n",
      "Topic 4: 0.532*\"xxxx\" + 0.032*\"xxxxxxxx\" + 0.030*\"account\" + 0.015*\"consumer\" + 0.013*\"credit\" + 0.013*\"information\" + 0.012*\"report\" + 0.012*\"usc\" + 0.011*\"reporting\" + 0.011*\"date\"\n",
      "Topic 5: 0.047*\"credit\" + 0.036*\"report\" + 0.028*\"account\" + 0.024*\"information\" + 0.023*\"reporting\" + 0.016*\"consumer\" + 0.011*\"fcra\" + 0.011*\"inaccurate\" + 0.010*\"payment\" + 0.009*\"dispute\"\n"
     ]
    }
   ],
   "source": [
    "import gensim\n",
    "from gensim import corpora\n",
    "\n",
    "# Tokenize text\n",
    "texts = [doc.split() for doc in df1['clean_text']]\n",
    "\n",
    "# Create dictionary and corpus\n",
    "dictionary = corpora.Dictionary(texts)\n",
    "corpus = [dictionary.doc2bow(text) for text in texts]\n",
    "\n",
    "# Train LDA model\n",
    "lda_model = gensim.models.LdaModel(\n",
    "    corpus=corpus,\n",
    "    id2word=dictionary,\n",
    "    num_topics=5,        # choose number of topics\n",
    "    random_state=42,\n",
    "    passes=10,\n",
    "    alpha='auto',\n",
    "    per_word_topics=True\n",
    ")\n",
    "\n",
    "# Print topics\n",
    "for idx, topic in lda_model.print_topics(-1):\n",
    "    print(f\"Topic {idx+1}: {topic}\")\n"
   ]
  },
  {
   "cell_type": "code",
   "execution_count": 28,
   "id": "6ec982b3-1ba0-4b4c-9829-64df9d2c3748",
   "metadata": {},
   "outputs": [],
   "source": [
    "!pip install pyLDAvis==3.4.1 --quiet"
   ]
  },
  {
   "cell_type": "markdown",
   "id": "49db5bd9-08e5-4a5d-b76f-341744ac8ad1",
   "metadata": {},
   "source": [
    "## Token Parsing for Cluster"
   ]
  },
  {
   "cell_type": "code",
   "execution_count": 42,
   "id": "5149b015-017d-4998-93d1-a1b52ecb3214",
   "metadata": {
    "scrolled": true
   },
   "outputs": [
    {
     "name": "stdout",
     "output_type": "stream",
     "text": [
      "Topic 1: credit, reporting, account, report, fcra, payment, violation, late, act, dispute\n",
      "Topic 2: nan, ally, levy, invest, mylife, reappeared, formed, tarnish, unidentifiable, yuou\n",
      "Topic 3: xxxx, account, xxxxxxxx, credit, report, debt, inquiry, collection, balance, number\n",
      "Topic 4: consumer, information, usc, reporting, report, credit, account, section, agency, right\n",
      "Topic 5: xxxx, account, payment, credit, loan, bank, card, time, xxxxxxxx, would\n"
     ]
    }
   ],
   "source": [
    "for idx, topic in lda_model.show_topics(num_topics=5, num_words=10, formatted=False):\n",
    "    words = [word for word, prob in topic]\n",
    "    print(f\"Topic {idx+1}: {', '.join(words)}\")\n",
    "\n"
   ]
  },
  {
   "cell_type": "markdown",
   "id": "d4ed8032-d86a-4af0-973c-01f4de487105",
   "metadata": {},
   "source": [
    "## Topic Number Mapping With Cluster Type"
   ]
  },
  {
   "cell_type": "code",
   "execution_count": 37,
   "id": "237d30b2-1d55-49be-9e3f-1b122ba18c77",
   "metadata": {},
   "outputs": [],
   "source": [
    "topic_labels = {\n",
    "    \n",
    "    1: \"Debt Collection Practices\",\n",
    "    2: \"Loan and Mortgage Payment Issues\",\n",
    "    3: \"Credit Reporting Errors\",\n",
    "    4: \"Credit Report Disputes\",\n",
    "    5: \"Bank Account or Credit Card\",\n",
    "}"
   ]
  },
  {
   "cell_type": "code",
   "execution_count": 38,
   "id": "972afcc7-ed91-41d4-9712-371acbc536d2",
   "metadata": {},
   "outputs": [
    {
     "name": "stderr",
     "output_type": "stream",
     "text": [
      "/tmp/ipykernel_129/2433024279.py:11: SettingWithCopyWarning: \n",
      "A value is trying to be set on a copy of a slice from a DataFrame.\n",
      "Try using .loc[row_indexer,col_indexer] = value instead\n",
      "\n",
      "See the caveats in the documentation: https://pandas.pydata.org/pandas-docs/stable/user_guide/indexing.html#returning-a-view-versus-a-copy\n",
      "  df1['topic_id'] = topic_assignments\n"
     ]
    },
    {
     "data": {
      "text/plain": [
       "0        4\n",
       "1        4\n",
       "2        4\n",
       "3        4\n",
       "4        4\n",
       "        ..\n",
       "19995    4\n",
       "19996    4\n",
       "19997    4\n",
       "19998    4\n",
       "19999    4\n",
       "Name: topic_id, Length: 20000, dtype: int64"
      ]
     },
     "execution_count": 38,
     "metadata": {},
     "output_type": "execute_result"
    }
   ],
   "source": [
    "topic_assignments = []\n",
    "\n",
    "for bow in corpus:\n",
    "    topic_probs = list(lda_model.get_document_topics(bow))\n",
    "    if topic_probs:\n",
    "        dominant_topic = max(topic_probs, key=lambda x: float(x[1]))[0]\n",
    "    else:\n",
    "        dominant_topic = None\n",
    "    topic_assignments.append(dominant_topic)\n",
    "\n",
    "df1['topic_id'] = topic_assignments\n",
    "df1['topic_id']\n"
   ]
  },
  {
   "cell_type": "code",
   "execution_count": 39,
   "id": "2fbd4440-cbe7-43e6-9f01-01fd88e86eee",
   "metadata": {},
   "outputs": [
    {
     "name": "stderr",
     "output_type": "stream",
     "text": [
      "/tmp/ipykernel_129/341838928.py:1: SettingWithCopyWarning: \n",
      "A value is trying to be set on a copy of a slice from a DataFrame.\n",
      "Try using .loc[row_indexer,col_indexer] = value instead\n",
      "\n",
      "See the caveats in the documentation: https://pandas.pydata.org/pandas-docs/stable/user_guide/indexing.html#returning-a-view-versus-a-copy\n",
      "  df1['topic_name'] = df1['topic_id'].map(topic_labels)\n"
     ]
    }
   ],
   "source": [
    "df1['topic_name'] = df1['topic_id'].map(topic_labels)"
   ]
  },
  {
   "cell_type": "code",
   "execution_count": 40,
   "id": "a72f031d-3312-46c9-b7a5-abdf9dc5bcdd",
   "metadata": {},
   "outputs": [
    {
     "data": {
      "text/plain": [
       "0        Credit Report Disputes\n",
       "1        Credit Report Disputes\n",
       "2        Credit Report Disputes\n",
       "3        Credit Report Disputes\n",
       "4        Credit Report Disputes\n",
       "                  ...          \n",
       "19995    Credit Report Disputes\n",
       "19996    Credit Report Disputes\n",
       "19997    Credit Report Disputes\n",
       "19998    Credit Report Disputes\n",
       "19999    Credit Report Disputes\n",
       "Name: topic_name, Length: 20000, dtype: object"
      ]
     },
     "execution_count": 40,
     "metadata": {},
     "output_type": "execute_result"
    }
   ],
   "source": [
    "df1['topic_name']"
   ]
  },
  {
   "cell_type": "markdown",
   "id": "cb0b5b34-7a50-4d0d-b2cd-2a65a8ec5ce7",
   "metadata": {},
   "source": [
    "## Complain Dataframe Including Cluster "
   ]
  },
  {
   "cell_type": "code",
   "execution_count": 41,
   "id": "3ee6f595-73d7-45e3-9275-46d35529c6b9",
   "metadata": {
    "scrolled": true
   },
   "outputs": [
    {
     "data": {
      "text/html": [
       "<div>\n",
       "<style scoped>\n",
       "    .dataframe tbody tr th:only-of-type {\n",
       "        vertical-align: middle;\n",
       "    }\n",
       "\n",
       "    .dataframe tbody tr th {\n",
       "        vertical-align: top;\n",
       "    }\n",
       "\n",
       "    .dataframe thead th {\n",
       "        text-align: right;\n",
       "    }\n",
       "</style>\n",
       "<table border=\"1\" class=\"dataframe\">\n",
       "  <thead>\n",
       "    <tr style=\"text-align: right;\">\n",
       "      <th></th>\n",
       "      <th>Complaint ID</th>\n",
       "      <th>Consumer complaint narrative</th>\n",
       "      <th>topic_name</th>\n",
       "    </tr>\n",
       "  </thead>\n",
       "  <tbody>\n",
       "    <tr>\n",
       "      <th>0</th>\n",
       "      <td>3642453</td>\n",
       "      <td>These are not my accounts.</td>\n",
       "      <td>Credit Report Disputes</td>\n",
       "    </tr>\n",
       "    <tr>\n",
       "      <th>1</th>\n",
       "      <td>8113747</td>\n",
       "      <td>Kindly address this issue on my credit report....</td>\n",
       "      <td>Credit Report Disputes</td>\n",
       "    </tr>\n",
       "    <tr>\n",
       "      <th>2</th>\n",
       "      <td>12085091</td>\n",
       "      <td>There are XXXX collections being reported to t...</td>\n",
       "      <td>Credit Report Disputes</td>\n",
       "    </tr>\n",
       "    <tr>\n",
       "      <th>3</th>\n",
       "      <td>15008491</td>\n",
       "      <td>Good day, filing this complaint to follow up m...</td>\n",
       "      <td>Credit Report Disputes</td>\n",
       "    </tr>\n",
       "    <tr>\n",
       "      <th>4</th>\n",
       "      <td>14774438</td>\n",
       "      <td>I am writing to have the following information...</td>\n",
       "      <td>Credit Report Disputes</td>\n",
       "    </tr>\n",
       "  </tbody>\n",
       "</table>\n",
       "</div>"
      ],
      "text/plain": [
       "   Complaint ID                       Consumer complaint narrative  \\\n",
       "0       3642453                         These are not my accounts.   \n",
       "1       8113747  Kindly address this issue on my credit report....   \n",
       "2      12085091  There are XXXX collections being reported to t...   \n",
       "3      15008491  Good day, filing this complaint to follow up m...   \n",
       "4      14774438  I am writing to have the following information...   \n",
       "\n",
       "               topic_name  \n",
       "0  Credit Report Disputes  \n",
       "1  Credit Report Disputes  \n",
       "2  Credit Report Disputes  \n",
       "3  Credit Report Disputes  \n",
       "4  Credit Report Disputes  "
      ]
     },
     "execution_count": 41,
     "metadata": {},
     "output_type": "execute_result"
    }
   ],
   "source": [
    "df1_clean = df1.dropna(subset=['Complaint ID', 'Consumer complaint narrative', 'topic_name'])\n",
    "df1_clean[['Complaint ID', 'Consumer complaint narrative', 'topic_name']].head()"
   ]
  },
  {
   "cell_type": "markdown",
   "id": "3e873b34-bad2-4b4f-a9e8-7a10ee9c0d30",
   "metadata": {},
   "source": [
    "## Visualization of Cluster Based of Complaint"
   ]
  },
  {
   "cell_type": "code",
   "execution_count": 42,
   "id": "8e1b1fd9-791c-4e51-870f-b52df33dc912",
   "metadata": {},
   "outputs": [
    {
     "data": {
      "image/png": "[encoded data removed]",
      "text/plain": [
       "<Figure size 640x480 with 1 Axes>"
      ]
     },
     "metadata": {},
     "output_type": "display_data"
    }
   ],
   "source": [
    "import seaborn as sns\n",
    "import matplotlib.pyplot as plt\n",
    "\n",
    "sns.countplot(y='topic_name', data=df1_clean, order=df1_clean['topic_name'].value_counts().index, palette='viridis')\n",
    "plt.title(\"Distribution of Complaint Topics\")\n",
    "plt.xlabel(\"Count\")\n",
    "plt.ylabel(\"Topic\")\n",
    "plt.show()\n"
   ]
  },
  {
   "cell_type": "markdown",
   "id": "b8d53a81-1be7-4c89-b383-4bee1137ed82",
   "metadata": {},
   "source": [
    "# Train ML model to auto-flag fraud complaints"
   ]
  },
  {
   "cell_type": "markdown",
   "id": "7bd48bc9-b873-4480-a74c-c3790fc050cf",
   "metadata": {},
   "source": [
    "## manually create a flag to Define Fraud"
   ]
  },
  {
   "cell_type": "code",
   "execution_count": 54,
   "id": "d4e51640-1668-4d1c-b4d3-6b930371863a",
   "metadata": {
    "scrolled": true
   },
   "outputs": [
    {
     "name": "stderr",
     "output_type": "stream",
     "text": [
      "/tmp/ipykernel_129/1592709735.py:6: SettingWithCopyWarning: \n",
      "A value is trying to be set on a copy of a slice from a DataFrame.\n",
      "Try using .loc[row_indexer,col_indexer] = value instead\n",
      "\n",
      "See the caveats in the documentation: https://pandas.pydata.org/pandas-docs/stable/user_guide/indexing.html#returning-a-view-versus-a-copy\n",
      "  df1_clean['Consumer complaint narrative'] = df1_clean['Consumer complaint narrative'].fillna('').astype(str)\n"
     ]
    },
    {
     "name": "stdout",
     "output_type": "stream",
     "text": [
      "Fraud_Flag\n",
      "0    11359\n",
      "1     4244\n",
      "Name: count, dtype: int64\n"
     ]
    },
    {
     "name": "stderr",
     "output_type": "stream",
     "text": [
      "/tmp/ipykernel_129/1592709735.py:19: SettingWithCopyWarning: \n",
      "A value is trying to be set on a copy of a slice from a DataFrame.\n",
      "Try using .loc[row_indexer,col_indexer] = value instead\n",
      "\n",
      "See the caveats in the documentation: https://pandas.pydata.org/pandas-docs/stable/user_guide/indexing.html#returning-a-view-versus-a-copy\n",
      "  df1_clean['Fraud_Flag'] = texts.apply(lambda t: 1 if pattern.search(t) else 0)\n"
     ]
    }
   ],
   "source": [
    "\n",
    "import re\n",
    "import numpy as np\n",
    "\n",
    "# lower and fillna first\n",
    "df1_clean['Consumer complaint narrative'] = df1_clean['Consumer complaint narrative'].fillna('').astype(str)\n",
    "texts = df1_clean['Consumer complaint narrative'].str.lower()\n",
    "\n",
    "# keywords / phrases that indicate possible fraud\n",
    "fraud_keywords = [\n",
    "    r'\\bfraud\\b', r'\\bunauthori[sz]ed\\b', r'\\bunauthori[sz]ed charge\\b',\n",
    "    r'\\bidentity theft\\b', r'\\bstolen identity\\b', r'\\bscam\\b',\n",
    "    r'\\bunauthori[sz]ed transaction\\b', r'\\bcard used\\b', r'\\bcharged me\\b',\n",
    "    r'\\bphish(ing)?\\b', r'\\baccount takeover\\b', r'\\brepresent fraud\\b'\n",
    "]\n",
    "\n",
    "pattern = re.compile('|'.join(fraud_keywords), flags=re.IGNORECASE)\n",
    "\n",
    "df1_clean['Fraud_Flag'] = texts.apply(lambda t: 1 if pattern.search(t) else 0)\n",
    "\n",
    "# Quick check\n",
    "print(df1_clean['Fraud_Flag'].value_counts())\n"
   ]
  },
  {
   "cell_type": "markdown",
   "id": "4765a1d9-2c43-4191-885a-6559ebd0faa4",
   "metadata": {},
   "source": [
    "## some examples predicted as fraud for manual verification"
   ]
  },
  {
   "cell_type": "code",
   "execution_count": 56,
   "id": "67d55cd7-1cea-4140-861a-d7a3b7da5c17",
   "metadata": {},
   "outputs": [
    {
     "data": {
      "text/plain": [
       "[\"I am submitting this Complaint to delete the following fraudulent information in my Credit file. The items I need deleted are listed in the report. I am a victim of identity theft and did not make the charge nor accounts. I ask that the items be deleted to correct my credit report. I reported the theft of my identity to the Federal Trade Commission and I also have enclosed copies of the Federal Trade Commission 's Identity Theft Report. I offer my testimony herein that I have not authorized or given anyone access to my private and confidential records and certainly not the alleged information showing on my credit report. I therefore request that the Credit Bureaus immediately remove these information from my credit report with your firm pursuant of the FCRA Section 605b. Please delete these items as soon as possible : XXXX XXXX XXXX XXXX XXXX, CO XXXX ; XXXX XXXX XXXX, CO XXXXXXXX XXXX XXXX XXXXXXXX Balance : {$1700.00} ; XXXXXXXX XXXX XXXXXXXX Balance : {$2500.00} ; XXXX XXXX XXXX XXXX : {$0.00} ; XXXX XXXX XXXX XXXX XXXX {$0.00} ; XXXX XXXX XXXX Balance XXXX {$0.00} ; XXXX XXXX XXXX Balance : {$0.00} ; XXXX XXXX XXXX XXXX XXXX XXXX XXXX XXXX XXXX XXXX XXXXXX/XX/XXXX ; XXXX XXXX XXXX XXXX XXXX, CO XXXX XXXX XXXX XXXX XXXX XX/XX/XXXX ; XXXXXXXX XXXX XXXX XXXX XXXX XXXX XXXX XXXX XXXX XXXX XXXX XXXX XXXX XXXX XXXX XXXX XXXX XXXX XXXX XXXX XXXX XXXX XXXX XXXX XXXX XXXX XXXX XXXX XXXX XXXX XXXXXXXX XXXX XX/XX/XXXX Original Creditor : XXXX XXXX XXXX Balance : {$3100.00} ; XXXX XXXX XXXX XXXX XXXX, CO XXXX ; XXXX XXXX XXXX XXXX XXXX XXXX XXXX XXXX XXXX XXXX XXXX XXXX XXXX XXXX XXXX XXXX XXXX XXXX XXXX XXXX XXXX XXXX XXXX  XXXX Balance : {$0.00} XXXX XXXXXXXX XXXX XXXXXX/XX/XXXX XXXX\",\n",
       " 'XXXX XXXX TransUnion XXXX XXXX Account # : XXXX Account Type : Revolving Account Type - Detail : Credit Card Bureau Code : Individual Account Status : Open Monthly Payment : {$84.00} Date Opened : XXXX  Balance : {$2200.00} No. of Months ( terms ) : XXXX High Credit : {$2500.00} Credit Limit : {$1000.00} Past Due : {$0.00} Payment Status : Current Last Reported : XX/XX/XXXX Comments : - Date Last Active : XX/XX/XXXXXXXX  Date of Last Payment : XX/XX/XXXXXXXX  Two-Year payment history Month XXXX XXXX XXXX XXXX XXXX XXXX XXXX XXXX XXXX XXXX XXXX XXXX XXXX XXXX XXXX XXXX XXXX XXXX XXXX XXXX XXXX XXXX XXXX XXXX  YeaXXXX XXXX XXXX XXXX XXXX XXXX XXXX XXXX XXXX XXXX XXXX XXXX XXXX XXXX XXXX XXXX XXXX XXXX XXXX XXXX XXXX XXXX XXXX XXXX XXXX  TransUnion XXXX XXXX XXXX XXXX XXXX XXXX XXXX XXXX XXXX XXXX XXXX XXXX XXXX XXXX XXXX XXXX XXXX XXXX XXXX XXXX XXXX XXXX XXXX XXXX XXXX THE DATE OPENED/DATE CLOSED/ LAST PAYMENT DATE IS INACCURATE ON THE CREDIT BUREAS.ALSO THE ACCOUNT NUMBER IS INCOMPLETE THIS IS GROUNDS FOR REMOVAL.DUE THAT FACT IS CLAIMED AS FRAUD FROM A FEDERALLY PROTECTED CONSUMER IT MUST BE REMOVED FROM CONSUMERS REPORT ACCORDING TO \" FAIR CARES ACT \\'\\' ANYTHING A CONSUMER REPORTS AS FRAUD MUST BE REMOVED FROM THE CONSUMERS CONSUMERS REPORT WITH IN 4 BUSINESS DAYS OF FRAUD RECEIPT RESPONSE DISPUTE 15 U.S. Code 1681c-2 a consumer reporting agency shall block the reporting of any information in the file of a consumer that the consumer identifies as information that results from an alleged identity theft. not later than 4 business days after the date of receipt.\\n\\nIt has been 30 days and you are in VIOLATION of this law because I am a victim of identit theft!! Please delete these items as soon as possible! \\nThese accounts should not be furnished on my consumer report as they are in VIOLATION!\\n\\nUnder, 15 U.S Code 1681b - Permissible purposes of consumer reports ( a ) IN GENERAL Subject to subsection ( c ) any consumer reporting agency may furnish a consumer und the following circumstances and no other : ( 2 ) In accordance with the WRITTEN INSTRUCTION of the consumer to whom it relates. I NEVER gave any consumer reporting agency WRITTEN CONSENT to report anything on my consumer report which violates my rights as a federal protected consumer. NO CONSENT IS IDENTITY THEFT. As a consume I am demanding the deletion of the accounts listed IMMEDIATELY.',\n",
       " \"After checking my credit I realize that I have been victim of identity theft, An identity theft report had been filed with the FTC and a police report will be filed. As require by FCRA any information reported as fraudulent should be removed from the consumer credit file. I'm reporting this as an effort to clear my name.\",\n",
       " \"I am writing to dispute fraudulent information I have found on my credit report, pursuant to 15 U.S.C. 1681c-2, and to request that such information be blocked or removed immediately. I am enclosing a copy of my FTC Identity Theft Report ( FTC REPORT NUMBER : XXXX ) as evidence of my claim. \\nPursuant to 15 U.S.C. 1681c-2, when a consumer files a report of identity theft, credit reporting agencies are required to block any information identified by the consumer as being the product of such theft within four ( 4 ) business days.\\n\\nThe following information on my credit report is the result of identity theft and must be frozen : XXXX XXXX  - XXXX XXXX XXXX - XXXX XXXXXXXX XXXX XXXX XXXX XXXXXXXX XXXX - XXXX XXXX XXXX XXXX XXXX XXXXXXXX Pursuant to 15 U.S.C. 1681c-2, I respectfully request that this account be immediately frozen from my credit report. This freeze must remain in effect for a period of one year, after which I may request an extension. During this time, no information may be reported.\\n\\nI have contacted EXPERIAN multiple times to report these accounts, but I have not received a clear or definitive solution to help me resolve this situation. This situation is severely impacting me, as I am trying to purchase a new home for my children and obtain financial tools to support my financial growth. Having these negative accounts on my credit report has blocked all my opportunities and is causing me personal and financial harm. These accounts have already been removed and were not verified by other credit bureaus, so I don't understand why this agency continues to claim these accounts belong to me.\\n\\nI have requested copies of the contracts related to these accounts from the reporting company, and after more than 60 days, I have not received a response. I respectfully request that you help me by removing these accounts immediately.\",\n",
       " 'My mortgage was transferred last XXXX to a new Rushmore Loan company. I can\\'t call them a management service because they\\'re inept in both areas and appear to have no idea what they\\'re doing, other than trying to get me and 100s of others to not be able to make their payment. There are 1000s of similar complaints online. As soon as the loan was transferred I asked for Auto Pay and sent their authorization form, which I\\'ve now sent 3 times. I travel a lot of want my mortgage to be paid. I have bi-weekly payments which is apparently a new concept for them as well. It\\'s now almost A YEAR and I still do not Auto Pay! I\\'m going to be out of the country for over 6 months and in a mild panic. I\\'ve contacted another ( real ) loan co but will have to pay refi fees and higher interest rate. They sent a letter following my multiple concerns, phone calls and letters, which was full of incorrect and false statements and only shows the level of incompetence. I feel they are doing everything in their power to get me to miss a payment so they can add late payment fees, and ruin my credit, so I\\'ll be stuck with them. I\\'ve had this mortgage for over 20 years, never missed a payment and auto pay was set up in a single transaction. It\\'s taken multiple calls, emails, and internal messages EVERY month since last year and they still can\\'t tell me if I do or do not have Auto Pay ( AP ). I\\'ve been assured multiple times but when I check my account online I find it\\'s not paid. In XXXX I received a letter that AP would start XX/XX/XXXX. It didn\\'t, of course. I had to check my account to find out. I then called to find out why and was ASSURED that the online account was not accurate and the AP was set. I was told I didn\\'t need to make any payments ( which I already had in a panic ). Apparently they withdrew that payment ( for the entire month ) because I was told the AP had gone thru and didn\\'t want to make double payments. The payment never went thru and was apparently cancelled on their end. I\\'m very busy ( which is why I do AP ) and don\\'t have time to keep checking my account. For some reason I trusted the information was going to be true this time. This week I got a call telling me that AP would be making a withdrawal on XX/XX/XXXX, which was an odd call. He also confirmed that an AP was paid in XXXX. He then asked to check and then told me NO, had not been paid in XXXX! and I would need to make a manual payment for the full month. But told me definitely the payment WOULD be made on XX/XX/XXXX. As of today, XX/XX/XXXX, my bank account has no pending withdrawal for RLMS. Not surprised. This has happened each of the dozens of times I\\'ve been absolutely, definitely, assured. Another example of their fraud ( or ineptness ) they tried to say payments were rejected by my bank ( my bank and bank acct denies ) and then required certified payments and tried to attach fees. One such day. XX/XX/18 my account balance was over {$3000.00}, another on XX/XX/18 ( a \" reversal \\'\\' ) my account balance was over {$2000.00}. My payments are apprx {$380.00} each but they claim the payment was returned! Bank denies, account disproves, I deny. False and fraudulent or just grossly incompetent and should not be allowed to manage anything resembling a mortgage or financial.',\n",
       " 'This is a follow-up to my previous written dispute regarding fraudulent accounts and inquiries appearing on my consumer report. Per FCRA 605B ( 15 U.S.C. 1681c-2 ), you are required to block all information resulting from identity theft within four business days of receipt.\\n\\nThe following accounts and inquiries do NOT belong to me and were obtained fraudulently without my consent : ACCOUNTS : XXXX - Account Number : XXXX XXXX XXXX XXXX XXXX XXXX XXXX XXXX XXXX XXXX XXXX XXXX, Date Opened : XX/XX/XXXX, Balance : {$0.00} XXXX XXXX  XXXX Account Number : XXXXXXXX XXXX XXXX XXXX XXXX XXXX XXXX XXXX XXXX Date Opened : XXXX Balance : XXXX INQUIRIES : XXXX XXXX XXXX XXXX XXXX XXXX XXXX XXXX XXXX XXXX XXXX XXXX XXXX XXXX XXXX XXXX XXXX XXXX XXXX XXXX XXXX XXXX XXXX XXXX XXXX XXXX XXXX XXXX XXXX XXXX XXXX XXXX XXXX XXXX XXXX XXXX XXXX XXXX XXXX XXXX XXXX XXXX XXXX XXXX XXXX XXXX XXXX XXXX XXXX XXXX XXXX XXXX XXXX XXXX XXXX XXXX XXXX XXXX XXXX XXXX XXXX XXXX XXXX XXXX XXXXXX/XX/XXXX',\n",
       " 'As per the guidance from the Consumer Financial Protection Bureau ( CFPB ) the documents needed are a picture ID, a bill, and a letter from an advocacy group helping me due to XXXX XXXX debt bondage, which falls undeXXXX XXXX according to XXXX Final Rule 1002.142 ( b ) ( 4 ) -5 -- 1002.142 ( b ) ( 7 ). I have provided my ID along with the XXXX letter signed by other required documents that verifies me. I kindly request that you block this information from my credit report within four business days, pursuant to section 605C of the Fair Credit Reporting Act. I have given you my identification as well as the information requested from the list of acceptable items which only 2 are required per the Law. I have provided all needed documentation as well as a victim determination letter according to 1022.142 ( b ) ( 6 ). \\n\\nTo Whom It May Concern, Please consider this letter a formal dispute of the alleged debt pursuant to the FDCPA, 15 U.S.C. 1692g ( b ). I also request verification, validation, and the name and address of the original creditor pursuant to 15 U.S. C. 1692g ( b ). According to, 15 U.S. Code 1681 The banking system is dependent upon fair and accurate credit reporting. Inaccurate credit reports directly impair the efficiency of the banking system, and unfair credit reporting methods undermine the public confidence which is essential to the continued functioning of the banking system. Under, 15 U.S Code 1681b - Permissible purposes of consumer reports ( a ) IN GENERAL Subject to subsection ( c ) any consumer reporting agency may furnish a consumer report und the following circumstances and no other : ( 2 ) In accordance with the WRITTEN INSTRUCTION of the consumer to whom it relates. I NEVER gave any consumer reporting agency WRITTEN CONSENT to report anything on my consumer report which violates my rights as a federal protected consumer. NO CONSENT IS IDENTITY THEFT. As a consumer I am demanding the deletion of the accounts ( or inquiries ) listed IMMEDIATELY.',\n",
       " 'Identity theft this debt is not mine I I also did not give written consent to any reporting on my credit',\n",
       " \"XX/XX/XXXX, hired XXXX XXXX XXXX XXXX XXXX XXXX, to dispute inaccurate and or fraudulent accounts on all credit reporting bureaus. As of XX/XX/XXXX, I pulled a credit report to show progress XXXX XXXX XXXX attempted. Accounts in question had not been removed only closed, no account accuracy, contracts, account transactions received, from third party debt collect XXXX XXXX, XXXX. Account was sold XX/XX/XXXX from XXXX Bank, formerly kmow as XXXX XXXX XXXX Bank. Currently, XXXX XXXX XXXX, sent a 'Alias Summons requesting demand of XXXX. \\n\\nOn at least 4 attempts, credit bureaus, XXXX Bank ( change of name in XX/XX/XXXX ) and XXXX XXXX XXXX, were contacted to valid account accuracy due to severe identity theft, XXXX XXXX XXXX, has violated the Fair Debit Collection Protections Act ( FDCPA ) that prohibits debt collectors from from using unfair, deceptive, and or abusive when collecting comsumer debts.\",\n",
       " 'Bay Area Rec ( XXXX  XXXX XXXX ) Action Date : XX/XX/2013 This letter is regarding an account, which you claim I owe {$210.00}. This is a formal notice that your claim is disputed. \\n\\nI am requesting validation, made pursuant to the Fair Debt Collection Practices Act and the Fair Credit Reporting Act, along with the corresponding local state laws. Please note that I am requesting \" validation \\'\\' ; that is competent evidence bearing my signature, showing that I have ( or ever had ) some contractual obligation to pay you.\\n\\nPlease also be aware that any negative mark found on my credit reports ( including XXXX, XXXX and XXXX ) from your company or any company that you represent, for a debt that I don\\'t owe, is a violation of the FCRA & FDCPA ; therefore if you can not validate the debt, you must request that all credit reporting agencies delete the entry. \\n\\nPending the outcome of my investigation of any evidence that you submit, you are instructed to take no action that could be detrimental to any of my credit reports. \\nFailure to respond within 30 days of receipt of this certified letter will result in small claims legal action against your company at my local venue. I will be seeking a minimum of {$1000.00} in damages per violation for : 1. ) Defamation 2. ) Negligent Enablement of Identity Fraud 3. ) Violation of the Fair Debt Collection Practices Act ( including but not limited to Section 807-8 ) 4. ) Violation of the Fair Credit Reporting Act ( including but not limited to Section 623-b ) Please Note : This notice is an attempt to correct your records, and any information received from you will be collected as  evidence should any further action be necessary. This is a request for information only, and is not a statement, election, or waiver of status. \\n\\nMy contact information is as follows : XXXX XXXX XXXX XXXX XXXX XXXX, Georgia XXXX P.S. Please be aware that dependent upon your response, I may be  detailing any potential issues with your company via an online public press release, including documentation of any potential small claims action. I am also including a copy of my complaint to the organizations below : Cc : Consumer Financial Protection Bureau Cc : Attorney General \\'s Office Cc : XXXX XXXX XXXX']"
      ]
     },
     "execution_count": 56,
     "metadata": {},
     "output_type": "execute_result"
    }
   ],
   "source": [
    "\n",
    "df1_clean[df1_clean['Fraud_Flag'] == 1]['Consumer complaint narrative'].sample(10, random_state=42).tolist()\n"
   ]
  },
  {
   "cell_type": "markdown",
   "id": "1bc7967b-d5ef-40b8-8b92-3c74b5565573",
   "metadata": {},
   "source": [
    "## Clean Text for 'Consumer complaint narrative'"
   ]
  },
  {
   "cell_type": "code",
   "execution_count": 57,
   "id": "628c9883-9541-4719-be8c-f77f60f9cd4d",
   "metadata": {},
   "outputs": [
    {
     "name": "stderr",
     "output_type": "stream",
     "text": [
      "[nltk_data] Downloading package stopwords to\n",
      "[nltk_data]     /home/6c612a95-9c07-40bd-a729-\n",
      "[nltk_data]     be10b96bcad3/nltk_data...\n",
      "[nltk_data]   Package stopwords is already up-to-date!\n",
      "[nltk_data] Downloading package wordnet to\n",
      "[nltk_data]     /home/6c612a95-9c07-40bd-a729-\n",
      "[nltk_data]     be10b96bcad3/nltk_data...\n",
      "[nltk_data]   Package wordnet is already up-to-date!\n",
      "/tmp/ipykernel_129/1337141241.py:18: SettingWithCopyWarning: \n",
      "A value is trying to be set on a copy of a slice from a DataFrame.\n",
      "Try using .loc[row_indexer,col_indexer] = value instead\n",
      "\n",
      "See the caveats in the documentation: https://pandas.pydata.org/pandas-docs/stable/user_guide/indexing.html#returning-a-view-versus-a-copy\n",
      "  df1_clean['clean_text'] = df1_clean['Consumer complaint narrative'].apply(clean_text)\n"
     ]
    }
   ],
   "source": [
    "# If you already computed clean_text earlier, skip this block.\n",
    "import re\n",
    "from nltk.corpus import stopwords\n",
    "from nltk.stem import WordNetLemmatizer\n",
    "import nltk\n",
    "nltk.download('stopwords')\n",
    "nltk.download('wordnet')\n",
    "\n",
    "stop_words = set(stopwords.words('english'))\n",
    "lemmatizer = WordNetLemmatizer()\n",
    "\n",
    "def clean_text(text):\n",
    "    text = str(text).lower()\n",
    "    text = re.sub(r'[^a-z\\s]', ' ', text)\n",
    "    tokens = [lemmatizer.lemmatize(w) for w in text.split() if w not in stop_words]\n",
    "    return \" \".join(tokens)\n",
    "\n",
    "df1_clean['clean_text'] = df1_clean['Consumer complaint narrative'].apply(clean_text)\n"
   ]
  },
  {
   "cell_type": "markdown",
   "id": "4216efce-c39d-4e7c-a767-279bfb0a31da",
   "metadata": {},
   "source": [
    "## Transforming Cleaned Complaint Narratives into TF-IDF Vectors"
   ]
  },
  {
   "cell_type": "code",
   "execution_count": 58,
   "id": "33ceb643-e458-4fc0-ad5d-f6847e1214f5",
   "metadata": {},
   "outputs": [],
   "source": [
    "from sklearn.feature_extraction.text import TfidfVectorizer\n",
    "\n",
    "vectorizer = TfidfVectorizer(max_features=5000)\n",
    "X = vectorizer.fit_transform(df1_clean['clean_text'])\n",
    "y = df1_clean['Fraud_Flag'].values\n",
    "\n"
   ]
  },
  {
   "cell_type": "markdown",
   "id": "2f849985-9f04-4ed6-a4fb-15b11ae64cfb",
   "metadata": {},
   "source": [
    "## Make Confirm we have both classes before splitting"
   ]
  },
  {
   "cell_type": "code",
   "execution_count": 59,
   "id": "74bea45e-1900-430d-9a92-0332cb030afd",
   "metadata": {},
   "outputs": [
    {
     "name": "stdout",
     "output_type": "stream",
     "text": [
      "(array([0, 1]), array([11359,  4244]))\n"
     ]
    }
   ],
   "source": [
    "import numpy as np\n",
    "print(np.unique(y, return_counts=True))\n",
    "\n"
   ]
  },
  {
   "cell_type": "markdown",
   "id": "9e01ada6-a7e0-486c-b1d1-25f90fca9db4",
   "metadata": {},
   "source": [
    "## Split, Train Dataset and Evaluate the Model"
   ]
  },
  {
   "cell_type": "code",
   "execution_count": 60,
   "id": "352e53dd-58ad-4bc0-a9ae-412ce2409287",
   "metadata": {
    "scrolled": true
   },
   "outputs": [
    {
     "name": "stdout",
     "output_type": "stream",
     "text": [
      "Train class distribution: (array([0, 1]), array([9087, 3395]))\n",
      "Test class distribution: (array([0, 1]), array([2272,  849]))\n",
      "              precision    recall  f1-score   support\n",
      "\n",
      "           0       0.97      1.00      0.98      2272\n",
      "           1       0.99      0.93      0.96       849\n",
      "\n",
      "    accuracy                           0.98      3121\n",
      "   macro avg       0.98      0.96      0.97      3121\n",
      "weighted avg       0.98      0.98      0.98      3121\n",
      "\n",
      "[[2264    8]\n",
      " [  61  788]]\n",
      "ROC-AUC: 0.995732344597621\n"
     ]
    }
   ],
   "source": [
    "from sklearn.model_selection import train_test_split\n",
    "from sklearn.ensemble import RandomForestClassifier\n",
    "from sklearn.metrics import classification_report, confusion_matrix, roc_auc_score\n",
    "\n",
    "# stratified split ensures both classes in train/test\n",
    "X_train, X_test, y_train, y_test = train_test_split(X, y, test_size=0.2, random_state=42, stratify=y)\n",
    "\n",
    "print(\"Train class distribution:\", np.unique(y_train, return_counts=True))\n",
    "print(\"Test class distribution:\", np.unique(y_test, return_counts=True))\n",
    "\n",
    "clf = RandomForestClassifier(n_estimators=200, random_state=42, class_weight='balanced')\n",
    "clf.fit(X_train, y_train)\n",
    "y_pred = clf.predict(X_test)\n",
    "\n",
    "print(classification_report(y_test, y_pred))\n",
    "print(confusion_matrix(y_test, y_pred))\n",
    "\n",
    "# ROC-AUC only if both classes present in y_test\n",
    "if len(np.unique(y_test)) == 2:\n",
    "    proba = clf.predict_proba(X_test)[:,1]\n",
    "    print(\"ROC-AUC:\", roc_auc_score(y_test, proba))\n",
    "else:\n",
    "    print(\"ROC-AUC: not meaningful (only one class present in y_test)\")\n"
   ]
  },
  {
   "cell_type": "markdown",
   "id": "deb2955c-cf5d-4c4b-8d6f-17f720cdbf21",
   "metadata": {},
   "source": [
    "## Test the Model with a test complain either it works fine or not."
   ]
  },
  {
   "cell_type": "code",
   "execution_count": 62,
   "id": "a62e151c-996a-4bbe-b1c0-6ddf2d20f633",
   "metadata": {},
   "outputs": [
    {
     "name": "stdout",
     "output_type": "stream",
     "text": [
      "Fraud Flag: Not Fraud\n",
      "Fraud Probability: 0.11\n"
     ]
    }
   ],
   "source": [
    "new_complaint = \"I was charged twice for a transaction I never made. My account was debited fraudulently.\"\n",
    "\n",
    "# 1️⃣ Clean the text using the same cleaning function\n",
    "cleaned = clean_text(new_complaint)\n",
    "\n",
    "# 2️⃣ Convert to TF-IDF features using the same vectorizer\n",
    "X_new = vectorizer.transform([cleaned])\n",
    "\n",
    "# 3️⃣ Predict using your trained model\n",
    "prediction = clf.predict(X_new)\n",
    "probability = clf.predict_proba(X_new)[0][1]  # probability of fraud\n",
    "\n",
    "# 4️⃣ Display result\n",
    "print(\"Fraud Flag:\", \"Fraud\" if prediction[0] == 1 else \"Not Fraud\")\n",
    "print(\"Fraud Probability:\", round(probability, 3))\n"
   ]
  },
  {
   "cell_type": "markdown",
   "id": "9c8fbfa9-1d94-48df-8322-7dc3afc35696",
   "metadata": {},
   "source": [
    "# Distribution of predicted probabilities with visualization"
   ]
  },
  {
   "cell_type": "code",
   "execution_count": 63,
   "id": "f4cfe520-231c-4203-b9a0-589d69be6948",
   "metadata": {},
   "outputs": [
    {
     "data": {
      "image/png": "[encoded data removed]",
      "text/plain": [
       "<Figure size 800x500 with 1 Axes>"
      ]
     },
     "metadata": {},
     "output_type": "display_data"
    }
   ],
   "source": [
    "import matplotlib.pyplot as plt\n",
    "import seaborn as sns\n",
    "\n",
    "# predicted probabilities for the positive class (Fraud)\n",
    "probs = clf.predict_proba(X_test)[:, 1]\n",
    "\n",
    "plt.figure(figsize=(8,5))\n",
    "sns.histplot(probs, bins=30, kde=True, color='purple')\n",
    "plt.xlabel(\"Predicted Fraud Probability\")\n",
    "plt.ylabel(\"Number of Complaints\")\n",
    "plt.title(\"Distribution of Predicted Fraud Probabilities\")\n",
    "plt.show()\n"
   ]
  },
  {
   "cell_type": "markdown",
   "id": "ee83114a-d08c-43bc-ae8d-22ba59edbd00",
   "metadata": {},
   "source": [
    "## Confusion Matrix Heatmap"
   ]
  },
  {
   "cell_type": "code",
   "execution_count": 64,
   "id": "6797599c-93eb-4581-89e8-3a87a81eb82b",
   "metadata": {},
   "outputs": [
    {
     "data": {
      "image/png": "[encoded data removed]",
      "text/plain": [
       "<Figure size 500x400 with 2 Axes>"
      ]
     },
     "metadata": {},
     "output_type": "display_data"
    }
   ],
   "source": [
    "from sklearn.metrics import confusion_matrix\n",
    "\n",
    "cm = confusion_matrix(y_test, y_pred)\n",
    "plt.figure(figsize=(5,4))\n",
    "sns.heatmap(cm, annot=True, fmt='d', cmap='Blues', xticklabels=['Not Fraud','Fraud'], yticklabels=['Not Fraud','Fraud'])\n",
    "plt.xlabel(\"Predicted\")\n",
    "plt.ylabel(\"Actual\")\n",
    "plt.title(\"Confusion Matrix Heatmap\")\n",
    "plt.show()\n"
   ]
  }
 ],
 "metadata": {
  "kernelspec": {
   "display_name": "anaconda-panel-2023.05-py310",
   "language": "python",
   "name": "conda-env-anaconda-panel-2023.05-py310-py"
  },
  "language_info": {
   "codemirror_mode": {
    "name": "ipython",
    "version": 3
   },
   "file_extension": ".py",
   "mimetype": "text/x-python",
   "name": "python",
   "nbconvert_exporter": "python",
   "pygments_lexer": "ipython3",
   "version": "3.11.5"
  }
 },
 "nbformat": 4,
 "nbformat_minor": 5
}
